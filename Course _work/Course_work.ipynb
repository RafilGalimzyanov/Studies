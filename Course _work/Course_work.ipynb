{
 "cells": [
  {
   "cell_type": "code",
   "execution_count": 185,
   "id": "5af38479",
   "metadata": {},
   "outputs": [],
   "source": [
    "'''\n",
    "Перечисляем количество предметов, которые можно положить в рюкзак, в виде словаря, где ключ - название предмета,\n",
    "а значение - список(вес, ценность).\n",
    "Конечная цель – максимизировать материальную ценность того, что будет весить меньше 15 кг \n",
    "'''\n",
    "WEIGHT_LIMIT = 15\n",
    "\n",
    "stuffdict = {'water_bottle':(2,100), \n",
    "             'tools':(2,80), \n",
    "             'books':(3,30), \n",
    "             'firewood':(9,10), \n",
    "             'dinner':(1,100), \n",
    "             'GPS':(1,90), \n",
    "             'notebook':(3,60),\n",
    "             'kindling':(1,75),\n",
    "             'ball':(1,60),\n",
    "             'night_light':(2,85), \n",
    "             'pillow':(1,20),\n",
    "             'blanket':(1,30),\n",
    "             'PS_5':(3,10),\n",
    "             'Folding table':(8,40),\n",
    "             'dumbbells':(10,5),\n",
    "             'plant_1':(1,10),\n",
    "             'plant_2':(2,10),\n",
    "             'plant_3':(3,15),\n",
    "             'dumbbells':(3,70),\n",
    "             'boat':(5,70)\n",
    "            }"
   ]
  },
  {
   "cell_type": "code",
   "execution_count": 186,
   "id": "f7e0a5c8",
   "metadata": {},
   "outputs": [],
   "source": [
    "'''\n",
    "Функция get_weight_and_value(stuffdict) принимает в качестве аргумента словарь, который в качестве значений имеет список из 2\n",
    " элементов. Возвращает 2 списка weight, value - массы, ценности\n",
    "'''\n",
    "\n",
    "def get_weight_and_value(stuffdict):\n",
    "    weight = [stuffdict[item][0] for item in stuffdict]\n",
    "    value = [stuffdict[item][1] for item in stuffdict]        \n",
    "    return weight, value"
   ]
  },
  {
   "cell_type": "code",
   "execution_count": 187,
   "id": "57cf1bd0",
   "metadata": {},
   "outputs": [],
   "source": [
    "'''\n",
    "Функция get_memtable(stuffdict, A=WEIGHT_LIMIT) принимает в качестве аргумента словарь, который в качестве значений имеет список из 2\n",
    " элементов и максимальный вес рюкзака. Создает и заполняет таблицу V в виде вложенных списков. Нулевые строка и столбцы равны\n",
    " нулю, далее таблица заполняется слева направо и сверху вниз. Возвращаются таблица V, списки weight, value - массы, ценности\n",
    "'''\n",
    "\n",
    "def get_memtable(stuffdict, A=WEIGHT_LIMIT):\n",
    "      weight, value = get_weight_and_value(stuffdict)\n",
    "      n = len(value) # находим размеры таблицы\n",
    "      \n",
    "      # создаём таблицу из нулевых значений\n",
    "      V = [[0 for a in range(A+1)] for i in range(n+1)]\n",
    "\n",
    "      for i in range(n+1):\n",
    "            for a in range(A+1):\n",
    "                  # базовый случай\n",
    "                  if i == 0 or a == 0:\n",
    "                        V[i][a] = 0\n",
    "\n",
    "                  # если масса предмета меньше массы столбца,\n",
    "                  # максимизируем значение суммарной ценности\n",
    "                  elif weight[i-1] <= a:\n",
    "                        V[i][a] = max(value[i-1] + V[i-1][a-weight[i-1]], V[i-1][a])\n",
    "\n",
    "                  # если масса предмета больше массы столбца,\n",
    "                  # забираем значение ячейки из предыдущей строки\n",
    "                  else:\n",
    "                        V[i][a] = V[i-1][a]       \n",
    "      return V, weight, value"
   ]
  },
  {
   "cell_type": "code",
   "execution_count": 188,
   "id": "9232c3ac",
   "metadata": {},
   "outputs": [],
   "source": [
    "'''\n",
    "Функция get_selected_items_list(stuffdict, A=WEIGHT_LIMIT)  принимает в качестве аргумента словарь, который в качестве значений имеет список из 2\n",
    " элементов и максимальный вес рюкзака. Забирает нужные элементы из последней строки таблицы. Возвращает оптимальное содержимое рюкзака.\n",
    "'''\n",
    "\n",
    "def get_selected_items_list(stuffdict, A=WEIGHT_LIMIT):\n",
    "      V, weight, value = get_memtable(stuffdict)\n",
    "      n = len(value)\n",
    "      res = V[n][A]      # начинаем с последнего элемента таблицы\n",
    "      a = A              # начальная масса - максимальная\n",
    "      items_list = []    # список масс и ценностей\n",
    "    \n",
    "      for i in range(n, 0, -1):  # идём в обратном порядке\n",
    "            if res <= 0:  # условие прерывания - собрали рюкзак \n",
    "                  break\n",
    "            if res == V[i-1][a]:  # ничего не делаем, двигаемся дальше\n",
    "                  continue\n",
    "            else:\n",
    "                  # \"забираем\" предмет\n",
    "                  items_list.append((weight[i-1], value[i-1]))\n",
    "                  res -= value[i-1]   # отнимаем значение ценности от общей\n",
    "                  a -= weight[i-1]  # отнимаем массу от общей\n",
    "            \n",
    "      selected_stuff = []\n",
    "\n",
    "      # находим ключи исходного словаря - названия предметов\n",
    "      for search in items_list:\n",
    "            for key, value in stuffdict.items():\n",
    "                  if value == search:\n",
    "                        selected_stuff.append(key)\n",
    "            \n",
    "      return selected_stuff"
   ]
  },
  {
   "cell_type": "code",
   "execution_count": 189,
   "id": "8f3ae8d0",
   "metadata": {},
   "outputs": [],
   "source": [
    "stuff = get_selected_items_list(stuffdict)"
   ]
  },
  {
   "cell_type": "code",
   "execution_count": 190,
   "id": "bb082119",
   "metadata": {},
   "outputs": [
    {
     "data": {
      "text/plain": [
       "['dumbbells',\n",
       " 'blanket',\n",
       " 'pillow',\n",
       " 'night_light',\n",
       " 'ball',\n",
       " 'kindling',\n",
       " 'GPS',\n",
       " 'dinner',\n",
       " 'tools',\n",
       " 'water_bottle']"
      ]
     },
     "execution_count": 190,
     "metadata": {},
     "output_type": "execute_result"
    }
   ],
   "source": [
    "stuff"
   ]
  },
  {
   "cell_type": "code",
   "execution_count": 191,
   "id": "57cc939c",
   "metadata": {},
   "outputs": [
    {
     "data": {
      "text/plain": [
       "15"
      ]
     },
     "execution_count": 191,
     "metadata": {},
     "output_type": "execute_result"
    }
   ],
   "source": [
    "sum([stuffdict[item][0] for item in stuff])"
   ]
  },
  {
   "cell_type": "code",
   "execution_count": 192,
   "id": "6d208a46",
   "metadata": {},
   "outputs": [
    {
     "data": {
      "text/plain": [
       "710"
      ]
     },
     "execution_count": 192,
     "metadata": {},
     "output_type": "execute_result"
    }
   ],
   "source": [
    "sum([stuffdict[item][1] for item in stuff])"
   ]
  },
  {
   "cell_type": "code",
   "execution_count": null,
   "id": "9ed99a60",
   "metadata": {},
   "outputs": [],
   "source": []
  },
  {
   "cell_type": "code",
   "execution_count": null,
   "id": "8f1938e8",
   "metadata": {},
   "outputs": [],
   "source": []
  }
 ],
 "metadata": {
  "kernelspec": {
   "display_name": "Python 3 (ipykernel)",
   "language": "python",
   "name": "python3"
  },
  "language_info": {
   "codemirror_mode": {
    "name": "ipython",
    "version": 3
   },
   "file_extension": ".py",
   "mimetype": "text/x-python",
   "name": "python",
   "nbconvert_exporter": "python",
   "pygments_lexer": "ipython3",
   "version": "3.9.2"
  }
 },
 "nbformat": 4,
 "nbformat_minor": 5
}
