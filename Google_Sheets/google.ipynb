{
 "cells": [
  {
   "cell_type": "markdown",
   "id": "86469fb5",
   "metadata": {},
   "source": [
    "## Работа с Google Sheets в качестве БД"
   ]
  },
  {
   "cell_type": "code",
   "execution_count": 2,
   "id": "5bfc2162",
   "metadata": {},
   "outputs": [
    {
     "name": "stdout",
     "output_type": "stream",
     "text": [
      "Подгрузка Базы Данных\n",
      "https://docs.google.com/spreadsheets/d/1kIF401BizvgbKpeL3SorwT1eN_eSJMoN1ihjJeD4e0k\n"
     ]
    }
   ],
   "source": [
    "import httplib2\n",
    "from googleapiclient.discovery import build\n",
    "from oauth2client.service_account import ServiceAccountCredentials\n",
    "\n",
    "\n",
    "def create_table():\n",
    "    print('Подгрузка Базы Данных')\n",
    "    CREDENTIALS_FILE = 'credentials.json'  # Имя файла с закрытым ключом\n",
    "    # Читаем ключи из файла\n",
    "    credentials = ServiceAccountCredentials.from_json_keyfile_name(CREDENTIALS_FILE, ['https://www.googleapis.com/auth/spreadsheets', 'https://www.googleapis.com/auth/drive'])\n",
    "    httpAuth = credentials.authorize(httplib2.Http()) # Авторизуемся в системе\n",
    "    service = build('sheets', 'v4', http = httpAuth) # Выбираем работу с таблицами и 4 версию API\n",
    "\n",
    "    spreadsheet = service.spreadsheets().create(body = {\n",
    "        'properties': {'title': 'База данных о поставках', 'locale': 'ru_RU'},\n",
    "        'sheets': [{'properties': {'sheetType': 'GRID',\n",
    "                                   'sheetId': 0,\n",
    "                                   'title': 'Лист номер один',\n",
    "                                   'gridProperties': {'rowCount': 100, 'columnCount': 15}}}]\n",
    "    }).execute()\n",
    "    spreadsheetId = spreadsheet['spreadsheetId'] # сохраняем идентификатор файла\n",
    "    our_table = 'https://docs.google.com/spreadsheets/d/' + spreadsheetId\n",
    "    print(our_table)\n",
    "\n",
    "    driveService = build('drive', 'v3', http = httpAuth) # Выбираем работу с Google Drive и 3 версию API\n",
    "    access = driveService.permissions().create(\n",
    "        fileId = spreadsheetId,\n",
    "        body = {'type': 'user', 'role': 'writer', 'emailAddress': 'rafil.galimzyanov.00@bk.ru'},  # Открываем доступ на редактирование\n",
    "        fields = 'id'\n",
    "    ).execute()\n",
    "    return service, spreadsheetId, our_table\n",
    "\n",
    "'''\n",
    "Чтение данных \n",
    "'''\n",
    "def verify_data():\n",
    "    values = service.spreadsheets().values().get(\n",
    "        spreadsheetId=spreadsheetId,\n",
    "        range='2:100',\n",
    "        majorDimension='ROWS'\n",
    "    ).execute()\n",
    "    try:\n",
    "        data_list = values['values']\n",
    "        return data_list\n",
    "    except:\n",
    "        print(f'База не заполнена')\n",
    "        pass\n",
    "\n",
    "service, spreadsheetId, our_table = create_table()"
   ]
  },
  {
   "cell_type": "code",
   "execution_count": null,
   "id": "b414ceac",
   "metadata": {},
   "outputs": [],
   "source": []
  }
 ],
 "metadata": {
  "kernelspec": {
   "display_name": "Python 3 (ipykernel)",
   "language": "python",
   "name": "python3"
  },
  "language_info": {
   "codemirror_mode": {
    "name": "ipython",
    "version": 3
   },
   "file_extension": ".py",
   "mimetype": "text/x-python",
   "name": "python",
   "nbconvert_exporter": "python",
   "pygments_lexer": "ipython3",
   "version": "3.9.2"
  }
 },
 "nbformat": 4,
 "nbformat_minor": 5
}
