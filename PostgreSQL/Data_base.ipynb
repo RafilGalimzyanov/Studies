{
 "cells": [
  {
   "cell_type": "code",
   "execution_count": 65,
   "id": "8e206d36",
   "metadata": {},
   "outputs": [],
   "source": [
    "import psycopg2\n",
    "\n",
    "class PostgreSQL(object):\n",
    "    '''    Подключаем БД PostgreSQL    '''\n",
    "    \n",
    "    def __init__(self):\n",
    "        ''' Определяем атрибуты БД '''\n",
    "        self.hostname = 'localhost'\n",
    "        self.username = 'postgres'\n",
    "        self.password = 'admin'\n",
    "        self.database = 'postgres'\n",
    "        self.port = '5433'\n",
    "        print(\"Database opened successfully\")\n",
    "\n",
    "    def connect(self):\n",
    "        ''' Соединяемся с БД '''\n",
    "        try:\n",
    "            self.connect = psycopg2.connect(\n",
    "                dbname = self.database, \n",
    "                user=self.username, \n",
    "                password=self.password, \n",
    "                host=self.hostname,\n",
    "                port=\"5433\")\n",
    "            self.cursor = connect.cursor()  \n",
    "            print('connect successfully')\n",
    "\n",
    "        except psycopg2.Error:\n",
    "            error = 'Failed to setup Postgres environment.\\n{0}'.format(sys.exc_info())\n",
    "            print ('Ошибка подключения к базе данных' + '\\ n' + error)\n",
    "    \n",
    "    def table_create(self):\n",
    "        ''' Функия для добавления таблицы в БД '''\n",
    "        \n",
    "        self.cursor.execute('''CREATE TABLE DATA\n",
    "        (NUMBER INT NOT NULL,\n",
    "        NUM_ORD CHAR(7) NOT NULL,\n",
    "        PRICE_D DOUBLE PRECISION,\n",
    "        PRICE_R DOUBLE PRECISION,\n",
    "        TIMING DATE);''')\n",
    "        self.connect.commit()\n",
    "        self.connect.close()\n",
    "    \n",
    "    def insert(self, name):\n",
    "        ''' Функия для записи в БД '''\n",
    "        pass\n",
    "    \n",
    "    def select(self):\n",
    "        ''' Функия для чтения из БД '''\n",
    "        pass"
   ]
  }
 ],
 "metadata": {
  "kernelspec": {
   "display_name": "Python 3 (ipykernel)",
   "language": "python",
   "name": "python3"
  },
  "language_info": {
   "codemirror_mode": {
    "name": "ipython",
    "version": 3
   },
   "file_extension": ".py",
   "mimetype": "text/x-python",
   "name": "python",
   "nbconvert_exporter": "python",
   "pygments_lexer": "ipython3",
   "version": "3.9.2"
  }
 },
 "nbformat": 4,
 "nbformat_minor": 5
}
