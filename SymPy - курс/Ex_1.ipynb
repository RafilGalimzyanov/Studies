{
 "cells": [
  {
   "cell_type": "code",
   "execution_count": 3,
   "id": "256047cb",
   "metadata": {},
   "outputs": [],
   "source": [
    "from sympy import *"
   ]
  },
  {
   "cell_type": "code",
   "execution_count": 2,
   "id": "995369f9",
   "metadata": {},
   "outputs": [],
   "source": [
    "t, g, m, k = symbols(\"t g m k\")\n",
    "v = Function(\"v\")\n",
    "h = Function(\"h\")\n"
   ]
  },
  {
   "cell_type": "code",
   "execution_count": 3,
   "id": "cfa67b9a",
   "metadata": {},
   "outputs": [
    {
     "data": {
      "text/latex": [
       "$\\displaystyle m \\frac{d}{d t} v{\\left(t \\right)} = - g m$"
      ],
      "text/plain": [
       "Eq(m*Derivative(v(t), t), -g*m)"
      ]
     },
     "execution_count": 3,
     "metadata": {},
     "output_type": "execute_result"
    }
   ],
   "source": [
    "de1 = Eq(m*diff(v(t), t), -m*g)\n",
    "de1"
   ]
  },
  {
   "cell_type": "code",
   "execution_count": 4,
   "id": "3596439c",
   "metadata": {},
   "outputs": [
    {
     "data": {
      "text/latex": [
       "$\\displaystyle v{\\left(t \\right)} = - g t + 100$"
      ],
      "text/plain": [
       "Eq(v(t), -g*t + 100)"
      ]
     },
     "execution_count": 4,
     "metadata": {},
     "output_type": "execute_result"
    }
   ],
   "source": [
    "Vt_ = dsolve(de1, v(t), ics={v(0): 100})\n",
    "Vt_"
   ]
  },
  {
   "cell_type": "code",
   "execution_count": 5,
   "id": "cd8c7a13",
   "metadata": {},
   "outputs": [
    {
     "data": {
      "text/latex": [
       "$\\displaystyle v{\\left(t \\right)} = 100 - 1.6 t$"
      ],
      "text/plain": [
       "Eq(v(t), 100 - 1.6*t)"
      ]
     },
     "execution_count": 5,
     "metadata": {},
     "output_type": "execute_result"
    }
   ],
   "source": [
    "Vt = Vt_.subs({g:1.6})\n",
    "# или так dsol2 = sol1.subs(g, 1.6) \n",
    "Vt"
   ]
  },
  {
   "cell_type": "code",
   "execution_count": 6,
   "id": "beab5dfb",
   "metadata": {},
   "outputs": [
    {
     "data": {
      "text/latex": [
       "$\\displaystyle \\frac{d}{d t} h{\\left(t \\right)} = 100 - 1.6 t$"
      ],
      "text/plain": [
       "Eq(Derivative(h(t), t), 100 - 1.6*t)"
      ]
     },
     "execution_count": 6,
     "metadata": {},
     "output_type": "execute_result"
    }
   ],
   "source": [
    "de2 = Eq(diff(h(t), t), Vt.rhs)\n",
    "de2"
   ]
  },
  {
   "cell_type": "code",
   "execution_count": 7,
   "id": "9103d952",
   "metadata": {},
   "outputs": [
    {
     "data": {
      "text/latex": [
       "$\\displaystyle h{\\left(t \\right)} = - 0.8 t^{2} + 100.0 t$"
      ],
      "text/plain": [
       "Eq(h(t), -0.8*t**2 + 100.0*t)"
      ]
     },
     "execution_count": 7,
     "metadata": {},
     "output_type": "execute_result"
    }
   ],
   "source": [
    "Ht = dsolve(de2, h(t), ics={h(0): 0})\n",
    "Ht"
   ]
  },
  {
   "cell_type": "code",
   "execution_count": 8,
   "id": "d6cc6f7b",
   "metadata": {},
   "outputs": [
    {
     "data": {
      "text/latex": [
       "$\\displaystyle 62.5$"
      ],
      "text/plain": [
       "62.5000000000000"
      ]
     },
     "execution_count": 8,
     "metadata": {},
     "output_type": "execute_result"
    }
   ],
   "source": [
    " # если уравнение трансцендентное необходимо использовать nsolve(Vt.rhs, t, 1)\n",
    "tmax = solve(Eq(Vt.rhs, 0), t) \n",
    "tmax[0]\n",
    "# Время достижения максимальной высоты"
   ]
  },
  {
   "cell_type": "code",
   "execution_count": 13,
   "id": "09c009e6",
   "metadata": {},
   "outputs": [
    {
     "data": {
      "text/latex": [
       "$\\displaystyle 125.0$"
      ],
      "text/plain": [
       "125.000000000000"
      ]
     },
     "execution_count": 13,
     "metadata": {},
     "output_type": "execute_result"
    }
   ],
   "source": [
    "t1t2 = solve(Eq(Ht.rhs, 0), t)\n",
    "tback = t1t2[1]\n",
    "tback\n",
    "# Время полного пути"
   ]
  },
  {
   "cell_type": "code",
   "execution_count": 10,
   "id": "682d2ee2",
   "metadata": {},
   "outputs": [
    {
     "data": {
      "text/latex": [
       "$\\displaystyle h{\\left(62.5 \\right)} = 3125.0$"
      ],
      "text/plain": [
       "Eq(h(62.5), 3125.0)"
      ]
     },
     "execution_count": 10,
     "metadata": {},
     "output_type": "execute_result"
    }
   ],
   "source": [
    "hmax = Ht.subs(t, tmax[0]) \n",
    "hmax"
   ]
  },
  {
   "cell_type": "code",
   "execution_count": 11,
   "id": "aae62ded",
   "metadata": {},
   "outputs": [
    {
     "data": {
      "image/png": "[encoded data removed]",
      "text/plain": [
       "<Figure size 432x288 with 1 Axes>"
      ]
     },
     "metadata": {
      "needs_background": "light"
     },
     "output_type": "display_data"
    }
   ],
   "source": [
    "Vplot = plot(Vt.rhs, (t, 0, 70), line_color='red')"
   ]
  },
  {
   "cell_type": "code",
   "execution_count": 12,
   "id": "e4267d1f",
   "metadata": {},
   "outputs": [
    {
     "data": {
      "image/png": "[encoded data removed]",
      "text/plain": [
       "<Figure size 432x288 with 1 Axes>"
      ]
     },
     "metadata": {
      "needs_background": "light"
     },
     "output_type": "display_data"
    }
   ],
   "source": [
    "Hplot = plot(Ht.rhs, (t, 0, 130), line_color='blue')"
   ]
  },
  {
   "cell_type": "markdown",
   "id": "558e663b",
   "metadata": {},
   "source": [
    "# Задание 1\n",
    "### По описанной выше схеме для Вашего варианта вычислите производную из пункта (а) аналитической части (задание 1.1)\n"
   ]
  },
  {
   "cell_type": "code",
   "execution_count": 7,
   "id": "a5c7b970",
   "metadata": {},
   "outputs": [
    {
     "data": {
      "text/latex": [
       "$\\displaystyle - e^{- x} \\sin{\\left(x + 2 \\right)} - e^{- x} \\cos{\\left(x + 2 \\right)}$"
      ],
      "text/plain": [
       "-exp(-x)*sin(x + 2) - exp(-x)*cos(x + 2)"
      ]
     },
     "execution_count": 7,
     "metadata": {},
     "output_type": "execute_result"
    }
   ],
   "source": [
    "import sympy as sym\n",
    "\n",
    "x = Symbol('x')\n",
    "f = -1 + sym.exp(-x)*sym.cos(x+2)\n",
    "\n",
    "diff(f, x)"
   ]
  },
  {
   "cell_type": "markdown",
   "id": "5fad1c76",
   "metadata": {},
   "source": [
    "### Решение моего варианта ДУ "
   ]
  },
  {
   "cell_type": "code",
   "execution_count": 33,
   "id": "b0e036d0",
   "metadata": {},
   "outputs": [
    {
     "data": {
      "text/latex": [
       "$\\displaystyle \\frac{d}{d x} y = 4 x \\log{\\left(x \\right)}$"
      ],
      "text/plain": [
       "Eq(Derivative(y, x), 4*x*log(x))"
      ]
     },
     "execution_count": 33,
     "metadata": {},
     "output_type": "execute_result"
    }
   ],
   "source": [
    "x = Symbol('x')\n",
    "y = Symbol('y')\n",
    "C = Symbol('C')\n",
    "\n",
    "dydx = Derivative(y, x) \n",
    "\n",
    "eq = Eq(dydx, 4*x*sym.log(x))\n",
    "eq"
   ]
  },
  {
   "cell_type": "code",
   "execution_count": 34,
   "id": "d4e395c5",
   "metadata": {},
   "outputs": [
    {
     "data": {
      "text/latex": [
       "$\\displaystyle 4 x \\log{\\left(x \\right)}$"
      ],
      "text/plain": [
       "4*x*log(x)"
      ]
     },
     "execution_count": 34,
     "metadata": {},
     "output_type": "execute_result"
    }
   ],
   "source": [
    "sol = solve(eq, dydx)[0]\n",
    "sol"
   ]
  },
  {
   "cell_type": "code",
   "execution_count": 35,
   "id": "be1678c1",
   "metadata": {},
   "outputs": [
    {
     "data": {
      "text/latex": [
       "$\\displaystyle C + 2 x^{2} \\log{\\left(x \\right)} - x^{2}$"
      ],
      "text/plain": [
       "C + 2*x**2*log(x) - x**2"
      ]
     },
     "execution_count": 35,
     "metadata": {},
     "output_type": "execute_result"
    }
   ],
   "source": [
    "dsol = integrate(sol, x) + C\n",
    "dsol"
   ]
  },
  {
   "cell_type": "code",
   "execution_count": 39,
   "id": "40664d7d",
   "metadata": {},
   "outputs": [
    {
     "data": {
      "text/latex": [
       "$\\displaystyle 2 x^{2} \\log{\\left(x \\right)} - x^{2} + 1$"
      ],
      "text/plain": [
       "2*x**2*log(x) - x**2 + 1"
      ]
     },
     "execution_count": 39,
     "metadata": {},
     "output_type": "execute_result"
    }
   ],
   "source": [
    "# Находим константу интегрирования, решая уравнение y(0, C) = 1\n",
    "x0, y0 = 0, 1\n",
    "X = dsol.subs(x, x0) # подставили x0 вместо x в решение dsol\n",
    "eq = Eq(y0, X) # приравняли к y0\n",
    "'''\n",
    "Sympy ругается на то, что мы рассматриваем логарифм в нуле (не соответствует одз)\n",
    "Поэтому я сразу приравняю С к 1\n",
    "'''\n",
    "dsol.subs(C, 1)"
   ]
  },
  {
   "cell_type": "markdown",
   "id": "bf5503d4",
   "metadata": {},
   "source": [
    "# Задание 2"
   ]
  },
  {
   "cell_type": "code",
   "execution_count": 111,
   "id": "7f5f7f75",
   "metadata": {},
   "outputs": [],
   "source": [
    "import numpy as np\n",
    "\n",
    "w0 = Symbol('w0')\n",
    "a = Symbol('a')\n",
    "g = Symbol('g')\n",
    "t = Symbol('t')\n",
    "x = Symbol('x')\n",
    "y = Symbol('y')\n",
    "\n",
    "x0 =0\n",
    "y0 = 0\n",
    "u0 = w0*sym.cos(a)\n",
    "v0 = w0*sym.sin(a)\n",
    "\n",
    "U = 0\n",
    "V = -g\n",
    "\n",
    "u = integrate(U, t) + u0\n",
    "v = integrate(V, t) + v0"
   ]
  },
  {
   "cell_type": "code",
   "execution_count": 78,
   "id": "13eace90",
   "metadata": {},
   "outputs": [
    {
     "name": "stdout",
     "output_type": "stream",
     "text": [
      "w0*cos(a)\n",
      "-g*t + w0*sin(a)\n"
     ]
    }
   ],
   "source": [
    "print(u)\n",
    "print(v)"
   ]
  },
  {
   "cell_type": "code",
   "execution_count": 85,
   "id": "95728ced",
   "metadata": {},
   "outputs": [],
   "source": [
    "xsol = integrate(u, t) + x0\n",
    "ysol = integrate(v, t) + y0"
   ]
  },
  {
   "cell_type": "code",
   "execution_count": 86,
   "id": "03d2555b",
   "metadata": {},
   "outputs": [
    {
     "data": {
      "text/latex": [
       "$\\displaystyle t w_{0} \\cos{\\left(a \\right)}$"
      ],
      "text/plain": [
       "t*w0*cos(a)"
      ]
     },
     "execution_count": 86,
     "metadata": {},
     "output_type": "execute_result"
    }
   ],
   "source": [
    "xsol"
   ]
  },
  {
   "cell_type": "code",
   "execution_count": 87,
   "id": "e294a9e1",
   "metadata": {},
   "outputs": [
    {
     "data": {
      "text/latex": [
       "$\\displaystyle - \\frac{g t^{2}}{2} + t w_{0} \\sin{\\left(a \\right)}$"
      ],
      "text/plain": [
       "-g*t**2/2 + t*w0*sin(a)"
      ]
     },
     "execution_count": 87,
     "metadata": {},
     "output_type": "execute_result"
    }
   ],
   "source": [
    "ysol"
   ]
  },
  {
   "cell_type": "code",
   "execution_count": 89,
   "id": "27f8bf57",
   "metadata": {},
   "outputs": [
    {
     "data": {
      "text/latex": [
       "$\\displaystyle - \\frac{g t^{2}}{2} + t w_{0} \\sin{\\left(a \\right)} = 0$"
      ],
      "text/plain": [
       "Eq(-g*t**2/2 + t*w0*sin(a), 0)"
      ]
     },
     "execution_count": 89,
     "metadata": {},
     "output_type": "execute_result"
    }
   ],
   "source": [
    "eq = Eq(ysol, 0)\n",
    "eq"
   ]
  },
  {
   "cell_type": "code",
   "execution_count": 102,
   "id": "65953f36",
   "metadata": {},
   "outputs": [
    {
     "data": {
      "text/latex": [
       "$\\displaystyle \\frac{2 w_{0} \\sin{\\left(a \\right)}}{g}$"
      ],
      "text/plain": [
       "2*w0*sin(a)/g"
      ]
     },
     "execution_count": 102,
     "metadata": {},
     "output_type": "execute_result"
    }
   ],
   "source": [
    "t1 = solve(eq, t)[1]\n",
    "t1"
   ]
  },
  {
   "cell_type": "code",
   "execution_count": 113,
   "id": "706fe760",
   "metadata": {},
   "outputs": [
    {
     "data": {
      "text/latex": [
       "$\\displaystyle \\frac{2 w_{0}^{2} \\sin{\\left(a \\right)} \\cos{\\left(a \\right)}}{g}$"
      ],
      "text/plain": [
       "2*w0**2*sin(a)*cos(a)/g"
      ]
     },
     "execution_count": 113,
     "metadata": {},
     "output_type": "execute_result"
    }
   ],
   "source": [
    "x1 = xsol.subs(t, t1)\n",
    "x1"
   ]
  },
  {
   "cell_type": "code",
   "execution_count": 108,
   "id": "bd62dfe6",
   "metadata": {},
   "outputs": [
    {
     "data": {
      "text/latex": [
       "$\\displaystyle - \\frac{g x^{2}}{2 w_{0}^{2} \\cos^{2}{\\left(a \\right)}} + \\frac{x \\sin{\\left(a \\right)}}{\\cos{\\left(a \\right)}}$"
      ],
      "text/plain": [
       "-g*x**2/(2*w0**2*cos(a)**2) + x*sin(a)/cos(a)"
      ]
     },
     "execution_count": 108,
     "metadata": {},
     "output_type": "execute_result"
    }
   ],
   "source": [
    "T = solve(Eq(xsol, x), t)[0] # выразили t через x\n",
    "Y = ysol.subs(t, T) # подставили T в y(t) вместо t\n",
    "Y # вывод формулы на экран"
   ]
  },
  {
   "cell_type": "code",
   "execution_count": 141,
   "id": "5ff35399",
   "metadata": {},
   "outputs": [
    {
     "data": {
      "image/png": "[encoded data removed]",
      "text/plain": [
       "<Figure size 432x288 with 1 Axes>"
      ]
     },
     "metadata": {
      "needs_background": "light"
     },
     "output_type": "display_data"
    }
   ],
   "source": [
    "# Земля\n",
    "ya = Y.subs(g, 9.8).subs(w0, 1).subs(a, np.pi/4) # уравнение траектории\n",
    "x1a = x1.subs(g, 9.8).subs(w0, 1).subs(a, np.pi/4) # точка падения\n",
    "\n",
    "# Луна\n",
    "ymoon = Y.subs(g, 1.6).subs(w0, 1).subs(a, np.pi/4) # уравнение траектории\n",
    "x1moon = x1.subs(g, 1.6).subs(w0, 1).subs(a, np.pi/4) # точка падения\n",
    "\n",
    "# Марс\n",
    "ymars = Y.subs(g, 3.7).subs(w0, 1).subs(a, np.pi/4) # уравнение траектории\n",
    "x1mars = x1.subs(g, 3.7).subs(w0, 1).subs(a, np.pi/4) # точка падения\n",
    "\n",
    "\n",
    "p1 = plot((ya, (x, 0, x1a)), ((ymoon, (x, 0, x1moon))), ((ymars, (x, 0, x1mars))))\n"
   ]
  },
  {
   "cell_type": "code",
   "execution_count": 142,
   "id": "e63bb055",
   "metadata": {},
   "outputs": [
    {
     "data": {
      "text/latex": [
       "$\\displaystyle 0.102040816326531$"
      ],
      "text/plain": [
       "0.102040816326531"
      ]
     },
     "execution_count": 142,
     "metadata": {},
     "output_type": "execute_result"
    }
   ],
   "source": [
    "x1a"
   ]
  },
  {
   "cell_type": "code",
   "execution_count": 143,
   "id": "c5e03474",
   "metadata": {},
   "outputs": [
    {
     "data": {
      "text/latex": [
       "$\\displaystyle 0.625$"
      ],
      "text/plain": [
       "0.625000000000000"
      ]
     },
     "execution_count": 143,
     "metadata": {},
     "output_type": "execute_result"
    }
   ],
   "source": [
    "x1moon"
   ]
  },
  {
   "cell_type": "code",
   "execution_count": 144,
   "id": "7ca3d128",
   "metadata": {},
   "outputs": [
    {
     "data": {
      "text/latex": [
       "$\\displaystyle 0.27027027027027$"
      ],
      "text/plain": [
       "0.270270270270270"
      ]
     },
     "execution_count": 144,
     "metadata": {},
     "output_type": "execute_result"
    }
   ],
   "source": [
    "x1mars"
   ]
  },
  {
   "cell_type": "markdown",
   "id": "d01190bb",
   "metadata": {},
   "source": [
    "# Задание 3"
   ]
  },
  {
   "cell_type": "code",
   "execution_count": 213,
   "id": "d0d98c96",
   "metadata": {},
   "outputs": [
    {
     "data": {
      "image/png": "[encoded data removed]",
      "text/plain": [
       "<Figure size 432x288 with 1 Axes>"
      ]
     },
     "metadata": {
      "needs_background": "light"
     },
     "output_type": "display_data"
    }
   ],
   "source": [
    "# Земля\n",
    "ya = Y.subs(g, 9.8).subs(w0, 1) # уравнение траектории\n",
    "x1a = x1.subs(g, 9.8).subs(w0, 1) # точка падения\n",
    "\n",
    "ya_mass = [ya.subs(a, i) for i in np.arange(np.pi/20, np.pi/2, np.pi/20)]\n",
    "x1mass = [x1a.subs(a, i) for i in np.arange(np.pi/20, np.pi/2, np.pi/20)]\n",
    "\n",
    "result = tuple([tuple([i, (x, 0, j)]) for i, j in zip(ya_mass, x1mass)])\n",
    "p = plot(show=False) # пустой график\n",
    "\n",
    "for i in range(len(result)):\n",
    "    p1 = plot(result[i], show=False)\n",
    "    p.extend(p1)\n",
    "p.show()"
   ]
  },
  {
   "cell_type": "code",
   "execution_count": 214,
   "id": "ad13bfab",
   "metadata": {},
   "outputs": [
    {
     "data": {
      "image/png": "[encoded data removed]",
      "text/plain": [
       "<Figure size 432x288 with 1 Axes>"
      ]
     },
     "metadata": {
      "needs_background": "light"
     },
     "output_type": "display_data"
    }
   ],
   "source": [
    "ya = Y.subs(g, 9.8).subs(a, np.pi/4) # уравнение траектории\n",
    "x1a = x1.subs(g, 9.8).subs(a, np.pi/4) # точка падения\n",
    "\n",
    "ya_mass = [ya.subs(w0, i) for i in np.arange(1, 10, 1)]\n",
    "x1mass = [x1a.subs(w0, i) for i in np.arange(1, 10, 1)]\n",
    "\n",
    "result = tuple([tuple([i, (x, 0, j)]) for i, j in zip(ya_mass, x1mass)])\n",
    "p = plot(show=False) # пустой график\n",
    "\n",
    "for i in range(len(result)):\n",
    "    p1 = plot(result[i], show=False)\n",
    "    p.extend(p1)\n",
    "p.show()"
   ]
  },
  {
   "cell_type": "markdown",
   "id": "f4926d32",
   "metadata": {},
   "source": [
    "# Задание 4"
   ]
  },
  {
   "cell_type": "code",
   "execution_count": 1,
   "id": "4c5ca3e7",
   "metadata": {},
   "outputs": [
    {
     "data": {
      "text/latex": [
       "$\\displaystyle m \\frac{d^{2}}{d t^{2}} y{\\left(t \\right)} = - g m - k m \\frac{d}{d t} y{\\left(t \\right)}$"
      ],
      "text/plain": [
       "Eq(m*Derivative(y(t), (t, 2)), -g*m - k*m*Derivative(y(t), t))"
      ]
     },
     "execution_count": 1,
     "metadata": {},
     "output_type": "execute_result"
    }
   ],
   "source": [
    "from sympy import *\n",
    "\n",
    "t, k, g, m = symbols(\"t k g m\")\n",
    "y = Function('y')(t)\n",
    "\n",
    "f = -m*g - m*k*diff(y, t)\n",
    "eq = Eq(m*diff(y,t,2), f)\n",
    "eq"
   ]
  },
  {
   "cell_type": "code",
   "execution_count": 2,
   "id": "cad519fc",
   "metadata": {},
   "outputs": [
    {
     "data": {
      "text/latex": [
       "$\\displaystyle y{\\left(t \\right)} = - 980.0 t + 98050.0 - 98000.0 e^{- 0.01 t}$"
      ],
      "text/plain": [
       "Eq(y(t), -980.0*t + 98050.0 - 98000.0*exp(-0.01*t))"
      ]
     },
     "execution_count": 2,
     "metadata": {},
     "output_type": "execute_result"
    }
   ],
   "source": [
    "# Уравнение движения\n",
    "ics={y.subs(t,0) : 50, y.diff().subs(t, 0) : 0}\n",
    "\n",
    "dsol = dsolve(eq.subs({g:9.8, k:0.01}), y, ics=ics)\n",
    "dsol"
   ]
  },
  {
   "cell_type": "code",
   "execution_count": null,
   "id": "316834a7",
   "metadata": {},
   "outputs": [],
   "source": [
    "# Найдем время падения \n",
    "# solve(dsol.subs(y, 0), t)\n",
    "# Решение уравнения t = 50\n",
    "Tfall = 3.211"
   ]
  },
  {
   "cell_type": "markdown",
   "id": "b8511b97",
   "metadata": {},
   "source": [
    "### 1. Скорость тела в момент падения"
   ]
  },
  {
   "cell_type": "code",
   "execution_count": 4,
   "id": "1e64e0b0",
   "metadata": {},
   "outputs": [
    {
     "data": {
      "text/latex": [
       "$\\displaystyle v{\\left(3.211 \\right)} = 30.9679488298696$"
      ],
      "text/plain": [
       "Eq(v(3.211), 30.9679488298696)"
      ]
     },
     "execution_count": 4,
     "metadata": {},
     "output_type": "execute_result"
    }
   ],
   "source": [
    "# Найдем скорость в момент падения\n",
    "v = Function('v')\n",
    "eq_v = Eq(diff(v(t), t), g-k*v(t))\n",
    "eq_v = dsolve(eq_v.subs({g:9.8, k:0.01}), v(t), ics={v(0): 0})\n",
    "eq_v.subs(t, Tfall)"
   ]
  },
  {
   "cell_type": "markdown",
   "id": "e67263ec",
   "metadata": {},
   "source": [
    "### 2. Время падения шара"
   ]
  },
  {
   "cell_type": "code",
   "execution_count": 5,
   "id": "279740a7",
   "metadata": {},
   "outputs": [
    {
     "data": {
      "text/plain": [
       "3.211"
      ]
     },
     "execution_count": 5,
     "metadata": {},
     "output_type": "execute_result"
    }
   ],
   "source": [
    "Tfall"
   ]
  },
  {
   "cell_type": "markdown",
   "id": "6afea457",
   "metadata": {},
   "source": [
    "### 3. График скорости шара"
   ]
  },
  {
   "cell_type": "code",
   "execution_count": 6,
   "id": "b8dd1448",
   "metadata": {},
   "outputs": [
    {
     "data": {
      "image/png": "[encoded data removed]",
      "text/plain": [
       "<Figure size 432x288 with 1 Axes>"
      ]
     },
     "metadata": {
      "needs_background": "light"
     },
     "output_type": "display_data"
    }
   ],
   "source": [
    "Vplot = plot(eq_v.rhs, (t, 0, Tfall), line_color='red')"
   ]
  },
  {
   "cell_type": "markdown",
   "id": "9c077d57",
   "metadata": {},
   "source": [
    "### 4. График изменения высоты шара"
   ]
  },
  {
   "cell_type": "code",
   "execution_count": 7,
   "id": "098491a4",
   "metadata": {},
   "outputs": [
    {
     "data": {
      "image/png": "[encoded data removed]",
      "text/plain": [
       "<Figure size 432x288 with 1 Axes>"
      ]
     },
     "metadata": {
      "needs_background": "light"
     },
     "output_type": "display_data"
    }
   ],
   "source": [
    "Hplot = plot(dsol.rhs, (t, 0, Tfall), line_color='blue')"
   ]
  },
  {
   "cell_type": "code",
   "execution_count": null,
   "id": "ed5cf686",
   "metadata": {},
   "outputs": [],
   "source": []
  },
  {
   "cell_type": "code",
   "execution_count": null,
   "id": "797edb2c",
   "metadata": {},
   "outputs": [],
   "source": []
  },
  {
   "cell_type": "code",
   "execution_count": null,
   "id": "c373c444",
   "metadata": {},
   "outputs": [],
   "source": []
  },
  {
   "cell_type": "code",
   "execution_count": null,
   "id": "5ec83c9f",
   "metadata": {},
   "outputs": [],
   "source": []
  }
 ],
 "metadata": {
  "kernelspec": {
   "display_name": "Python 3 (ipykernel)",
   "language": "python",
   "name": "python3"
  },
  "language_info": {
   "codemirror_mode": {
    "name": "ipython",
    "version": 3
   },
   "file_extension": ".py",
   "mimetype": "text/x-python",
   "name": "python",
   "nbconvert_exporter": "python",
   "pygments_lexer": "ipython3",
   "version": "3.9.2"
  }
 },
 "nbformat": 4,
 "nbformat_minor": 5
}
