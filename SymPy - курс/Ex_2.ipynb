{
 "cells": [
  {
   "cell_type": "markdown",
   "id": "687c7dcf",
   "metadata": {},
   "source": [
    "### Задание 1. Динамика и второй закон Ньютона"
   ]
  },
  {
   "cell_type": "code",
   "execution_count": 4,
   "id": "aed98067",
   "metadata": {},
   "outputs": [],
   "source": [
    "from sympy import *"
   ]
  },
  {
   "cell_type": "code",
   "execution_count": 2,
   "id": "4fe27114",
   "metadata": {},
   "outputs": [
    {
     "data": {
      "text/latex": [
       "$\\displaystyle 1600 \\frac{d}{d t} v{\\left(t \\right)} = - 8 v^{2}{\\left(t \\right)}$"
      ],
      "text/plain": [
       "Eq(1600*Derivative(v(t), t), -8*v(t)**2)"
      ]
     },
     "execution_count": 2,
     "metadata": {},
     "output_type": "execute_result"
    }
   ],
   "source": [
    "t, m= symbols(\"t m\")\n",
    "v = Function(\"v\")\n",
    "x = Function(\"x\")\n",
    "\n",
    "de1 = Eq(1600*diff(v(t), t), -8*(v(t)*v(t)))\n",
    "de1"
   ]
  },
  {
   "cell_type": "code",
   "execution_count": 25,
   "id": "28b1c3a9",
   "metadata": {},
   "outputs": [
    {
     "data": {
      "text/latex": [
       "$\\displaystyle v{\\left(t \\right)} = \\frac{200}{t + \\frac{20}{3}}$"
      ],
      "text/plain": [
       "Eq(v(t), 200/(t + 20/3))"
      ]
     },
     "execution_count": 25,
     "metadata": {},
     "output_type": "execute_result"
    }
   ],
   "source": [
    "Vt_ = dsolve(de1, v(t), ics={v(0): 30})\n",
    "Vt_"
   ]
  },
  {
   "cell_type": "code",
   "execution_count": 31,
   "id": "1efb0e27",
   "metadata": {},
   "outputs": [
    {
     "data": {
      "text/latex": [
       "$\\displaystyle v{\\left(30 \\right)} = \\frac{60}{11}$"
      ],
      "text/plain": [
       "Eq(v(30), 60/11)"
      ]
     },
     "execution_count": 31,
     "metadata": {},
     "output_type": "execute_result"
    }
   ],
   "source": [
    "v_30 = Vt_.subs({t:30})\n",
    "v_30\n",
    "\n",
    "# 1. Скорость автомобиля через  30  секунд."
   ]
  },
  {
   "cell_type": "code",
   "execution_count": 41,
   "id": "c2d2dd7f",
   "metadata": {},
   "outputs": [
    {
     "data": {
      "text/latex": [
       "$\\displaystyle 60$"
      ],
      "text/plain": [
       "60"
      ]
     },
     "execution_count": 41,
     "metadata": {},
     "output_type": "execute_result"
    }
   ],
   "source": [
    "t3 = solve(Eq(Vt_.rhs, 3), t) \n",
    "t3[0]\n",
    "\n",
    "# 2. Время, которое пройдет прежде чем скорость автомобиля станет  3  м/сек."
   ]
  },
  {
   "cell_type": "code",
   "execution_count": 38,
   "id": "978df17a",
   "metadata": {},
   "outputs": [
    {
     "data": {
      "text/latex": [
       "$\\displaystyle \\frac{d}{d t} x{\\left(t \\right)} = \\frac{200}{t + \\frac{20}{3}}$"
      ],
      "text/plain": [
       "Eq(Derivative(x(t), t), 200/(t + 20/3))"
      ]
     },
     "execution_count": 38,
     "metadata": {},
     "output_type": "execute_result"
    }
   ],
   "source": [
    "de2 = Eq(diff(x(t), t), Vt_.rhs)\n",
    "de2"
   ]
  },
  {
   "cell_type": "code",
   "execution_count": 44,
   "id": "ca25c0a9",
   "metadata": {},
   "outputs": [
    {
     "data": {
      "text/latex": [
       "$\\displaystyle x{\\left(t \\right)} = 200 \\log{\\left(3 t + 20 \\right)} - 200 \\log{\\left(20 \\right)}$"
      ],
      "text/plain": [
       "Eq(x(t), 200*log(3*t + 20) - 200*log(20))"
      ]
     },
     "execution_count": 44,
     "metadata": {},
     "output_type": "execute_result"
    }
   ],
   "source": [
    "Xt = dsolve(de2, x(t), ics={x(0): 0})\n",
    "Xt"
   ]
  },
  {
   "cell_type": "code",
   "execution_count": 45,
   "id": "18d58d77",
   "metadata": {},
   "outputs": [
    {
     "data": {
      "text/latex": [
       "$\\displaystyle x{\\left(60 \\right)} = - 200 \\log{\\left(20 \\right)} + 200 \\log{\\left(200 \\right)}$"
      ],
      "text/plain": [
       "Eq(x(60), -200*log(20) + 200*log(200))"
      ]
     },
     "execution_count": 45,
     "metadata": {},
     "output_type": "execute_result"
    }
   ],
   "source": [
    "x_3 = Xt.subs({t:t3[0]})\n",
    "x_3\n",
    "\n",
    "# 3. Расстояние, которое пройдет автомобиль прежде чем его скорость станет  3  м/сек."
   ]
  },
  {
   "cell_type": "markdown",
   "id": "afdb7c70",
   "metadata": {},
   "source": [
    "### Автомобиль движется прямолинейно со скоростью 40 км/ч. На полном ходу двигатель автомобиля останавливается и через 40 секунд после этого скорость автомобиля уменьшается до 20 км/ч. Сопротивление воздуха пропорционально скорости движения автомобиля. Коэффициент сопротивления k и масса автомобиля m неизвестны. Определите скорость автомобиля через 4 минуты после остановки двигателя. Постройте график изменения скорости в зависимости от времени для первых 6 минут после остановки двигателя."
   ]
  },
  {
   "cell_type": "code",
   "execution_count": 8,
   "id": "caf693c1",
   "metadata": {},
   "outputs": [
    {
     "data": {
      "text/latex": [
       "$\\displaystyle m \\frac{d}{d t} v{\\left(t \\right)} = - k v{\\left(t \\right)}$"
      ],
      "text/plain": [
       "Eq(m*Derivative(v(t), t), -k*v(t))"
      ]
     },
     "execution_count": 8,
     "metadata": {},
     "output_type": "execute_result"
    }
   ],
   "source": [
    "t, m, k= symbols(\"t m k\")\n",
    "v = Function(\"v\")\n",
    "x = Function(\"x\")\n",
    "\n",
    "de1 = Eq(m*diff(v(t), t), -k*(v(t)))\n",
    "de1"
   ]
  },
  {
   "cell_type": "code",
   "execution_count": 13,
   "id": "87c1bd6f",
   "metadata": {},
   "outputs": [
    {
     "data": {
      "text/latex": [
       "$\\displaystyle v{\\left(t \\right)} = 11.1111111111111 e^{- \\frac{k t}{m}}$"
      ],
      "text/plain": [
       "Eq(v(t), 11.1111111111111*exp(-k*t/m))"
      ]
     },
     "execution_count": 13,
     "metadata": {},
     "output_type": "execute_result"
    }
   ],
   "source": [
    "Vt_ = dsolve(de1, v(t), ics={v(0): 40000/3600})\n",
    "Vt_"
   ]
  },
  {
   "cell_type": "code",
   "execution_count": 25,
   "id": "f05cc279",
   "metadata": {},
   "outputs": [
    {
     "data": {
      "text/latex": [
       "$\\displaystyle 57.7078016355585 k$"
      ],
      "text/plain": [
       "57.7078016355585*k"
      ]
     },
     "execution_count": 25,
     "metadata": {},
     "output_type": "execute_result"
    }
   ],
   "source": [
    "solve(Eq(Vt_.rhs, 20000/3600).subs({t:40}), m)[0]\n",
    "# Нашли уравнение на m и k"
   ]
  },
  {
   "cell_type": "code",
   "execution_count": 21,
   "id": "3a87fd60",
   "metadata": {},
   "outputs": [
    {
     "data": {
      "text/latex": [
       "$\\displaystyle v{\\left(240 \\right)} = 11.1111111111111 e^{- \\frac{240 k}{m}}$"
      ],
      "text/plain": [
       "Eq(v(240), 11.1111111111111*exp(-240*k/m))"
      ]
     },
     "execution_count": 21,
     "metadata": {},
     "output_type": "execute_result"
    }
   ],
   "source": [
    "Vt_.subs({t:240})\n",
    "# Скорость спустя 4 минуты"
   ]
  },
  {
   "cell_type": "code",
   "execution_count": 27,
   "id": "b17ec5a2",
   "metadata": {},
   "outputs": [
    {
     "data": {
      "image/png": "[encoded data removed]",
      "text/plain": [
       "<Figure size 432x288 with 1 Axes>"
      ]
     },
     "metadata": {
      "needs_background": "light"
     },
     "output_type": "display_data"
    }
   ],
   "source": [
    "Vt_res = Vt_.subs({k:10, m:57.7078016355585*10})\n",
    "Vplot = plot(Vt_res.rhs, (t, 0, 360), line_color='red')"
   ]
  },
  {
   "cell_type": "markdown",
   "id": "d3ae148f",
   "metadata": {},
   "source": [
    "### Задание 2. Модель Мальтуса"
   ]
  },
  {
   "cell_type": "code",
   "execution_count": 48,
   "id": "6ed31df5",
   "metadata": {},
   "outputs": [
    {
     "data": {
      "text/latex": [
       "$\\displaystyle \\frac{d}{d t} x{\\left(t \\right)} = k x{\\left( \\right)}$"
      ],
      "text/plain": [
       "Eq(Derivative(x(t), t), k*x())"
      ]
     },
     "execution_count": 48,
     "metadata": {},
     "output_type": "execute_result"
    }
   ],
   "source": [
    "t, k, x0 = symbols(\"t k x0\")\n",
    "x = Function(\"x\")\n",
    "\n",
    "de1 = Eq(diff(x(t), t), k*x())\n",
    "de1"
   ]
  },
  {
   "cell_type": "code",
   "execution_count": 50,
   "id": "726f6567",
   "metadata": {},
   "outputs": [
    {
     "data": {
      "text/latex": [
       "$\\displaystyle x{\\left(t \\right)} = k t x{\\left( \\right)} - 2000 k x{\\left( \\right)} + 6000000000$"
      ],
      "text/plain": [
       "Eq(x(t), k*t*x() - 2000*k*x() + 6000000000)"
      ]
     },
     "execution_count": 50,
     "metadata": {},
     "output_type": "execute_result"
    }
   ],
   "source": [
    "Xt1 = dsolve(de1, x(t), ics={x(2000): 6*10**9})\n",
    "Xt1"
   ]
  },
  {
   "cell_type": "code",
   "execution_count": 51,
   "id": "50a9fea0",
   "metadata": {},
   "outputs": [
    {
     "data": {
      "text/latex": [
       "$\\displaystyle x{\\left(t \\right)} = k t x{\\left( \\right)} + 8000 k x{\\left( \\right)} + 5000000$"
      ],
      "text/plain": [
       "Eq(x(t), k*t*x() + 8000*k*x() + 5000000)"
      ]
     },
     "execution_count": 51,
     "metadata": {},
     "output_type": "execute_result"
    }
   ],
   "source": [
    "Xt2 = dsolve(de1, x(t), ics={x(-8000): 5*10**6})\n",
    "Xt2"
   ]
  },
  {
   "cell_type": "markdown",
   "id": "d9befd38",
   "metadata": {},
   "source": [
    "### В течение месяца популяция хомячков удвоилась. С момента наблюдения популяция увеличивается по закону Мальтуса. Считая, что в месяце 30 дней за сколько дней популяция хомячков утроится?"
   ]
  },
  {
   "cell_type": "code",
   "execution_count": 7,
   "id": "a191d41a",
   "metadata": {},
   "outputs": [
    {
     "data": {
      "text/latex": [
       "$\\displaystyle x_{0} e^{720 k} = 2 x_{0} \\log{\\left(2 \\right)}$"
      ],
      "text/plain": [
       "Eq(x0*exp(720*k), 2*x0*log(2))"
      ]
     },
     "execution_count": 7,
     "metadata": {},
     "output_type": "execute_result"
    }
   ],
   "source": [
    "t, k, x0 = symbols(\"t k x0\")\n",
    "x = Function(\"x\")\n",
    "\n",
    "de1 = Eq(x0*exp(30*24*k), 2*x0)\n",
    "de1"
   ]
  },
  {
   "cell_type": "code",
   "execution_count": 20,
   "id": "945aeee4",
   "metadata": {},
   "outputs": [
    {
     "data": {
      "text/latex": [
       "$\\displaystyle \\frac{\\log{\\left(2 \\right)}}{720}$"
      ],
      "text/plain": [
       "log(2)/720"
      ]
     },
     "execution_count": 20,
     "metadata": {},
     "output_type": "execute_result"
    }
   ],
   "source": [
    "K = solve(Eq(720*k, ln(2)), k)[0]\n",
    "K"
   ]
  },
  {
   "cell_type": "code",
   "execution_count": 17,
   "id": "7441a42a",
   "metadata": {},
   "outputs": [
    {
     "data": {
      "text/latex": [
       "$\\displaystyle x{\\left(t \\right)} = x_{0} e^{\\frac{t \\log{\\left(2 \\right)}}{720}}$"
      ],
      "text/plain": [
       "Eq(x(t), x0*exp(t*log(2)/720))"
      ]
     },
     "execution_count": 17,
     "metadata": {},
     "output_type": "execute_result"
    }
   ],
   "source": [
    "pop = Eq(x(t), x0*exp(K*t))\n",
    "pop"
   ]
  },
  {
   "cell_type": "code",
   "execution_count": 21,
   "id": "03a6fca9",
   "metadata": {},
   "outputs": [
    {
     "data": {
      "text/latex": [
       "$\\displaystyle 3 x_{0} = x_{0} e^{\\frac{t \\log{\\left(2 \\right)}}{720}}$"
      ],
      "text/plain": [
       "Eq(3*x0, x0*exp(t*log(2)/720))"
      ]
     },
     "execution_count": 21,
     "metadata": {},
     "output_type": "execute_result"
    }
   ],
   "source": [
    "pop3 = Eq(3*x0, x0*exp(K*t))\n",
    "pop3"
   ]
  },
  {
   "cell_type": "code",
   "execution_count": 24,
   "id": "081b8cda",
   "metadata": {},
   "outputs": [
    {
     "data": {
      "text/latex": [
       "$\\displaystyle \\frac{720 \\log{\\left(3 \\right)}}{\\log{\\left(2 \\right)}}$"
      ],
      "text/plain": [
       "720*log(3)/log(2)"
      ]
     },
     "execution_count": 24,
     "metadata": {},
     "output_type": "execute_result"
    }
   ],
   "source": [
    "time3 = solve(Eq(ln(3), t*K), t)[0]\n",
    "time3"
   ]
  },
  {
   "cell_type": "markdown",
   "id": "be753bc9",
   "metadata": {},
   "source": [
    "### Ответ: 48 дней"
   ]
  },
  {
   "cell_type": "code",
   "execution_count": null,
   "id": "265fd1fd",
   "metadata": {},
   "outputs": [],
   "source": []
  }
 ],
 "metadata": {
  "kernelspec": {
   "display_name": "Python 3 (ipykernel)",
   "language": "python",
   "name": "python3"
  },
  "language_info": {
   "codemirror_mode": {
    "name": "ipython",
    "version": 3
   },
   "file_extension": ".py",
   "mimetype": "text/x-python",
   "name": "python",
   "nbconvert_exporter": "python",
   "pygments_lexer": "ipython3",
   "version": "3.9.2"
  }
 },
 "nbformat": 4,
 "nbformat_minor": 5
}
