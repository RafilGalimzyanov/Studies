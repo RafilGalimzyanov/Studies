{
 "cells": [
  {
   "cell_type": "markdown",
   "id": "e06cfe88",
   "metadata": {},
   "source": [
    "### Задание 1\n",
    "#### Автомобиль массой  1600  кг движется прямолинейно со скоростью  30  м/с. На полном ходу двигатель автомобиля останавливается. Сопротивление воздуха пропорционально квадрату скорости движения автомобиля и равно  8  кг при скорости 1 м/с ( k=8 ). Другими внешними силами пренебречь. Используя второй закон Ньютона составьте дифференциальное уравнение второго порядка и определите:\n",
    "\n",
    "#### 1. Скорость автомобиля через  30  секунд. \n",
    "#### 2. Время, которое пройдет прежде чем скорость автомобиля станет  3  м/сек. \n",
    "#### 3. Расстояние, которое пройдет автомобиль прежде чем его скорость станет  3  м/сек."
   ]
  },
  {
   "cell_type": "code",
   "execution_count": 5,
   "id": "29b5237e",
   "metadata": {},
   "outputs": [
    {
     "data": {
      "text/latex": [
       "$\\displaystyle m \\frac{d}{d t} v{\\left(t \\right)} = - k v{\\left(t \\right)}$"
      ],
      "text/plain": [
       "Eq(m*Derivative(v(t), t), -k*v(t))"
      ]
     },
     "execution_count": 5,
     "metadata": {},
     "output_type": "execute_result"
    }
   ],
   "source": [
    "from sympy import *\n",
    "import math\n",
    "\n",
    "t, m, k= symbols(\"t m k\")\n",
    "v = Function(\"v\")\n",
    "x = Function(\"x\")\n",
    "\n",
    "de1 = Eq(m*diff(v(t), t), -k*(v(t)))\n",
    "de1"
   ]
  },
  {
   "cell_type": "code",
   "execution_count": 6,
   "id": "4b10fded",
   "metadata": {},
   "outputs": [
    {
     "data": {
      "text/latex": [
       "$\\displaystyle v{\\left(t \\right)} = 8.33333333333333 e^{- \\frac{k t}{m}}$"
      ],
      "text/plain": [
       "Eq(v(t), 8.33333333333333*exp(-k*t/m))"
      ]
     },
     "execution_count": 6,
     "metadata": {},
     "output_type": "execute_result"
    }
   ],
   "source": [
    "Vt_ = dsolve(de1, v(t), ics={v(0): 30000/3600})\n",
    "Vt_"
   ]
  },
  {
   "cell_type": "code",
   "execution_count": 7,
   "id": "bec45297",
   "metadata": {},
   "outputs": [
    {
     "data": {
      "text/latex": [
       "$\\displaystyle v{\\left(30 \\right)} = \\frac{8.33333333333333}{e^{\\frac{3}{20}}}$"
      ],
      "text/plain": [
       "Eq(v(30), 8.33333333333333*exp(-3/20))"
      ]
     },
     "execution_count": 7,
     "metadata": {},
     "output_type": "execute_result"
    }
   ],
   "source": [
    "Vt_.subs({t:30, k:8, m:1600})"
   ]
  },
  {
   "cell_type": "code",
   "execution_count": 9,
   "id": "59af08fb",
   "metadata": {},
   "outputs": [
    {
     "name": "stdout",
     "output_type": "stream",
     "text": [
      "v(30) = 7.1725664415185495 м/c\n"
     ]
    }
   ],
   "source": [
    "print(f'v(30) = {8.3333333/math.exp(3/20)} м/c')"
   ]
  },
  {
   "cell_type": "code",
   "execution_count": 17,
   "id": "27572e3f",
   "metadata": {},
   "outputs": [
    {
     "name": "stdout",
     "output_type": "stream",
     "text": [
      "t(v=3м/c) = 204.330249506396 с\n"
     ]
    }
   ],
   "source": [
    "t_3 = solve(Eq(Vt_.rhs, 3).subs({k:8, m:1600}), t)[0]\n",
    "print(f't(v=3м/c) = {t_3} с')"
   ]
  },
  {
   "cell_type": "code",
   "execution_count": 18,
   "id": "56a85918",
   "metadata": {},
   "outputs": [
    {
     "data": {
      "text/latex": [
       "$\\displaystyle \\frac{d}{d t} x{\\left(t \\right)} = 8.33333333333333 e^{- \\frac{k t}{m}}$"
      ],
      "text/plain": [
       "Eq(Derivative(x(t), t), 8.33333333333333*exp(-k*t/m))"
      ]
     },
     "execution_count": 18,
     "metadata": {},
     "output_type": "execute_result"
    }
   ],
   "source": [
    "de2 = Eq(diff(x(t), t), Vt_.rhs)\n",
    "de2"
   ]
  },
  {
   "cell_type": "code",
   "execution_count": 20,
   "id": "5fff915a",
   "metadata": {},
   "outputs": [
    {
     "data": {
      "text/latex": [
       "$\\displaystyle x{\\left(t \\right)} = 1666.66666666667 - 1666.66666666667 e^{- \\frac{t}{200}}$"
      ],
      "text/plain": [
       "Eq(x(t), 1666.66666666667 - 1666.66666666667*exp(-t/200))"
      ]
     },
     "execution_count": 20,
     "metadata": {},
     "output_type": "execute_result"
    }
   ],
   "source": [
    "Xt = dsolve(de2, x(t), ics={x(0): 0}).subs({k:8, m:1600})\n",
    "Xt"
   ]
  },
  {
   "cell_type": "code",
   "execution_count": 22,
   "id": "473ff2fb",
   "metadata": {},
   "outputs": [
    {
     "data": {
      "text/latex": [
       "$\\displaystyle x{\\left(204.330249506396 \\right)} = 1066.66666666667$"
      ],
      "text/plain": [
       "Eq(x(204.330249506396), 1066.66666666667)"
      ]
     },
     "execution_count": 22,
     "metadata": {},
     "output_type": "execute_result"
    }
   ],
   "source": [
    "Xt.subs({t:t_3})"
   ]
  },
  {
   "cell_type": "markdown",
   "id": "da74c0f1",
   "metadata": {},
   "source": [
    "### Задание 2. Нелинейный математический маятник\n",
    "#### Рассматривается модель нелинейного математического маятника. Сформулируйте модель колебательной системы при которой маятник находящийся первые  ∼10  секунд выполняет полное вращение (один оборот) под действием внешней силы  F(t) . Затем колебания маятника затухают. Требуется, чтобы в конце наблюдений амплитуда колебаний не превышала  0.1  рад относительно значения  2π  на протяжении 5 секунд. При этом требуется чтобы при амплитуде колебания маятника  ≈π  угловая скорость была меньше  10−3  рад/с. Сила  F(t)  должна быть задана непрерывной функцией и зависеть от времени  t  и не зависеть от текущего состояния маятника.\n",
    "\n",
    "#### Для составленного дифференциального уравнения постройте графики демонстрирующие изменение угла и угловой скорости с течением времени в соответствии с примером."
   ]
  },
  {
   "cell_type": "code",
   "execution_count": 23,
   "id": "c213116f",
   "metadata": {},
   "outputs": [],
   "source": [
    "from matplotlib import animation\n",
    "import matplotlib.pyplot as plt\n",
    "from scipy.integrate import odeint\n",
    "import numpy as np"
   ]
  },
  {
   "cell_type": "code",
   "execution_count": 127,
   "id": "929b049f",
   "metadata": {},
   "outputs": [],
   "source": [
    "def f(y,t):\n",
    "    return y[1], -0.1*y[1]-np.sin(y[0])\n",
    "def f_force(y,t):\n",
    "    return y[1], -0.1*y[1]-np.sin(y[0]) + (t/40)"
   ]
  },
  {
   "cell_type": "code",
   "execution_count": 130,
   "id": "3892233d",
   "metadata": {},
   "outputs": [
    {
     "data": {
      "image/png": "[encoded data removed]",
      "text/plain": [
       "<Figure size 600x300 with 1 Axes>"
      ]
     },
     "metadata": {
      "needs_background": "light"
     },
     "output_type": "display_data"
    },
    {
     "data": {
      "image/png": "[encoded data removed]",
      "text/plain": [
       "<Figure size 600x300 with 1 Axes>"
      ]
     },
     "metadata": {
      "needs_background": "light"
     },
     "output_type": "display_data"
    }
   ],
   "source": [
    "n, steps = 100, 200\n",
    "xs = np.linspace(0,n,steps)\n",
    "\n",
    "y0 = [np.pi, 0]  # начальный угол отклонения, начальная угловая скорость\n",
    "\n",
    "us_force = odeint(f_force,y0,xs[:20])\n",
    "ys_force = us_force[:,0]\n",
    "\n",
    "us = odeint(f,us_force[-1],xs[20:])  # численное решение ДУ\n",
    "\n",
    "plt.figure(figsize=(6,3), dpi = 100)\n",
    "ys = us[:,0]          # найденные значения y(t) в точках, изменение угла с течением времени\n",
    "plt.plot(xs,np.concatenate((us_force[:,0],ys), axis=0),'-')   # график для y(t)\n",
    "plt.xlabel('время (секунды)')\n",
    "plt.ylabel('y(t)')\n",
    "plt.grid(True)\n",
    "plt.xlim(0, 100)\n",
    "plt.ylim(0, 15)\n",
    "plt.show()\n",
    "\n",
    "plt.figure(figsize=(6,3), dpi = 100)\n",
    "ds = us[:,1]          # найденные значения y'(t) в точках, угловая скорость с течением времени\n",
    "plt.plot(xs,np.concatenate((us_force[:,1],ds), axis=0),'-')   # график для y'(t)\n",
    "plt.xlabel('время (секунды)')\n",
    "plt.ylabel('y\\'(t)')\n",
    "plt.grid(True)\n",
    "plt.xlim(0, 100)\n",
    "plt.ylim(-3, 3)\n",
    "plt.show()"
   ]
  },
  {
   "cell_type": "code",
   "execution_count": null,
   "id": "1aeb782e",
   "metadata": {},
   "outputs": [],
   "source": []
  }
 ],
 "metadata": {
  "kernelspec": {
   "display_name": "Python 3 (ipykernel)",
   "language": "python",
   "name": "python3"
  },
  "language_info": {
   "codemirror_mode": {
    "name": "ipython",
    "version": 3
   },
   "file_extension": ".py",
   "mimetype": "text/x-python",
   "name": "python",
   "nbconvert_exporter": "python",
   "pygments_lexer": "ipython3",
   "version": "3.9.2"
  }
 },
 "nbformat": 4,
 "nbformat_minor": 5
}
