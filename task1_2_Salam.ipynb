{
 "cells": [
  {
   "cell_type": "markdown",
   "metadata": {},
   "source": [
    "Для ввода данных в программу используется функция **input()**. Функция считывает одну строку.\n",
    "\n",
    "Вот программа, которая считывает имя пользователя и приветствует его:"
   ]
  },
  {
   "cell_type": "code",
   "execution_count": 1,
   "metadata": {},
   "outputs": [
    {
     "name": "stdout",
     "output_type": "stream",
     "text": [
      "Как вас зовут?\n",
      "Бакир\n",
      "Здравствуйте, Бакир!\n"
     ]
    }
   ],
   "source": [
    "print('Как вас зовут?')\n",
    "name = input()  # считываем строку и кладём её в переменную name\n",
    "print('Здравствуйте, ' + name + '!')"
   ]
  },
  {
   "cell_type": "markdown",
   "metadata": {},
   "source": [
    "Напишите программу, которая считывает два числа и выводит их сумму. \n",
    "Для этого считаем два числа и сохраним их в переменные a и b, пользуясь оператором присваивания =. \n",
    "Выполните представленные ниже инструкции: a=3, b=4"
   ]
  },
  {
   "cell_type": "code",
   "execution_count": 2,
   "metadata": {},
   "outputs": [
    {
     "name": "stdout",
     "output_type": "stream",
     "text": [
      "3\n",
      "4\n",
      "34\n"
     ]
    }
   ],
   "source": [
    "a = input()\n",
    "b = input()\n",
    "c = a + b\n",
    "print(c)"
   ]
  },
  {
   "cell_type": "markdown",
   "metadata": {},
   "source": [
    "Результат работы программы: 34. Однако в реальной жизни 3 + 4 = 7. \n",
    "Это произошло потому, что Питон в третьей строчке «сложил» две строки, а не два числа. \n",
    "\n",
    "В Питоне все данные называются объектами. \n",
    "Число 2 представляется объектом «число 2», строка 'hello' – это объект «строка 'hello'».\n",
    "\n",
    "Каждый объект относится к какому-то типу. \n",
    "Строки хранятся в объектах типа **str**, целые числа хранятся в объектах типа **int**, \n",
    "дробные числа (вещественные числа) — в объектах типа **float**. \n",
    "Тип объекта определяет, какие действия можно делать с объектами этого типа. \n",
    "Например, если в переменных **first** и **second** лежат объекты типа **int**, то их можно перемножить, \n",
    "а если в них лежат объекты типа **str**, то их перемножить нельзя:"
   ]
  },
  {
   "cell_type": "code",
   "execution_count": 3,
   "metadata": {},
   "outputs": [
    {
     "name": "stdout",
     "output_type": "stream",
     "text": [
      "35\n"
     ]
    },
    {
     "ename": "TypeError",
     "evalue": "can't multiply sequence by non-int of type 'str'",
     "output_type": "error",
     "traceback": [
      "\u001b[1;31m---------------------------------------------------------------------------\u001b[0m",
      "\u001b[1;31mTypeError\u001b[0m                                 Traceback (most recent call last)",
      "\u001b[1;32m~\\AppData\\Local\\Temp/ipykernel_7352/1502942873.py\u001b[0m in \u001b[0;36m<module>\u001b[1;34m\u001b[0m\n\u001b[0;32m      4\u001b[0m \u001b[0mfirst\u001b[0m \u001b[1;33m=\u001b[0m \u001b[1;34m'5'\u001b[0m\u001b[1;33m\u001b[0m\u001b[1;33m\u001b[0m\u001b[0m\n\u001b[0;32m      5\u001b[0m \u001b[0msecond\u001b[0m \u001b[1;33m=\u001b[0m \u001b[1;34m'7'\u001b[0m\u001b[1;33m\u001b[0m\u001b[1;33m\u001b[0m\u001b[0m\n\u001b[1;32m----> 6\u001b[1;33m \u001b[0mprint\u001b[0m\u001b[1;33m(\u001b[0m\u001b[0mfirst\u001b[0m \u001b[1;33m*\u001b[0m \u001b[0msecond\u001b[0m\u001b[1;33m)\u001b[0m\u001b[1;33m\u001b[0m\u001b[1;33m\u001b[0m\u001b[0m\n\u001b[0m",
      "\u001b[1;31mTypeError\u001b[0m: can't multiply sequence by non-int of type 'str'"
     ]
    }
   ],
   "source": [
    "first = 5\n",
    "second = 7\n",
    "print(first * second)\n",
    "first = '5'\n",
    "second = '7'\n",
    "print(first * second)"
   ]
  },
  {
   "cell_type": "markdown",
   "metadata": {},
   "source": [
    "Чтобы преобразовать строку из цифр в целое число, воспользуемся функцией **int()**. Например, int('23') вернет число 23.\n",
    "Вот пример правильной программы, которая считывает два числа и выводит их сумму:"
   ]
  },
  {
   "cell_type": "code",
   "execution_count": 5,
   "metadata": {},
   "outputs": [
    {
     "name": "stdout",
     "output_type": "stream",
     "text": [
      "3\n",
      "4\n",
      "7\n"
     ]
    }
   ],
   "source": [
    "a = int(input())\n",
    "b = int(input())\n",
    "s = a + b\n",
    "print(s)"
   ]
  },
  {
   "cell_type": "markdown",
   "metadata": {},
   "source": [
    "Рассмотрим следующий пример: извлечение квадратного корня"
   ]
  },
  {
   "cell_type": "code",
   "execution_count": 6,
   "metadata": {},
   "outputs": [
    {
     "ename": "NameError",
     "evalue": "name 'sqrt' is not defined",
     "output_type": "error",
     "traceback": [
      "\u001b[1;31m---------------------------------------------------------------------------\u001b[0m",
      "\u001b[1;31mNameError\u001b[0m                                 Traceback (most recent call last)",
      "\u001b[1;32m~\\AppData\\Local\\Temp/ipykernel_7352/1103852951.py\u001b[0m in \u001b[0;36m<module>\u001b[1;34m\u001b[0m\n\u001b[1;32m----> 1\u001b[1;33m \u001b[0msqrt\u001b[0m\u001b[1;33m(\u001b[0m\u001b[1;36m4\u001b[0m\u001b[1;33m)\u001b[0m\u001b[1;33m\u001b[0m\u001b[1;33m\u001b[0m\u001b[0m\n\u001b[0m",
      "\u001b[1;31mNameError\u001b[0m: name 'sqrt' is not defined"
     ]
    }
   ],
   "source": [
    "sqrt(4)"
   ]
  },
  {
   "cell_type": "markdown",
   "metadata": {},
   "source": [
    "Извлечение квадратного корня не входит в комплект математических операций, доступных в Python по умолчанию, \n",
    "поэтому попытка выполнить инструкцию привела к ошибке. \n",
    "\n",
    "NameError: name 'sqrt' is not defined \n",
    "    \n",
    "Для определения данной функции необходимо подключить соответствующую библиотеку    \n",
    "\n",
    "Это можно сделать разными способами."
   ]
  },
  {
   "cell_type": "code",
   "execution_count": 7,
   "metadata": {},
   "outputs": [
    {
     "data": {
      "text/plain": [
       "2.0"
      ]
     },
     "execution_count": 7,
     "metadata": {},
     "output_type": "execute_result"
    }
   ],
   "source": [
    "import math\n",
    "math.sqrt(4)"
   ]
  },
  {
   "cell_type": "markdown",
   "metadata": {},
   "source": [
    "После того, как модуль math импортирован, вы можете узнать, какие ещё в нём есть функции. \n",
    "В IPython Notebook для этого достаточно ввести имя модуля, поставить точку и нажать кнопку «Tab». Вот, например, синус:"
   ]
  },
  {
   "cell_type": "code",
   "execution_count": 8,
   "metadata": {},
   "outputs": [
    {
     "data": {
      "text/plain": [
       "0.0"
      ]
     },
     "execution_count": 8,
     "metadata": {},
     "output_type": "execute_result"
    }
   ],
   "source": [
    "math.sin(0)"
   ]
  },
  {
   "cell_type": "markdown",
   "metadata": {},
   "source": [
    "Приведенный синтаксис может оказаться неудобным, если вам часто приходится вызывать какие-то математические функции. \n",
    "Чтобы не писать каждый раз слово «math», можно импортировать из модуля конкретные функции."
   ]
  },
  {
   "cell_type": "code",
   "execution_count": 9,
   "metadata": {},
   "outputs": [],
   "source": [
    "from math import sqrt"
   ]
  },
  {
   "cell_type": "code",
   "execution_count": 10,
   "metadata": {},
   "outputs": [
    {
     "data": {
      "text/plain": [
       "2.0"
      ]
     },
     "execution_count": 10,
     "metadata": {},
     "output_type": "execute_result"
    }
   ],
   "source": [
    "sqrt(4)"
   ]
  },
  {
   "cell_type": "markdown",
   "metadata": {},
   "source": [
    "Вещественные числа в программировании не так просты. Вот, например, посчитаем синус числа π:"
   ]
  },
  {
   "cell_type": "code",
   "execution_count": 11,
   "metadata": {},
   "outputs": [
    {
     "data": {
      "text/plain": [
       "1.2246467991473532e-16"
      ]
     },
     "execution_count": 11,
     "metadata": {},
     "output_type": "execute_result"
    }
   ],
   "source": [
    "from math import pi, sin\n",
    "sin(pi)\n",
    "# думаете, получится 0? Ха-ха!"
   ]
  },
  {
   "cell_type": "markdown",
   "metadata": {},
   "source": [
    "Непонятный ответ? Во-первых, это так называемая компьютерная форма экспоненциальной записи чисел. \n",
    "Она удобна, если нужно уметь записывать очень большие или очень маленькие числа: \n",
    "1.2E2 означает 1,2⋅102, то есть 1200, а 2.4e-3 — то же самое, что 2,4⋅10−3=0,0024. \n",
    "Результат, посчитанный Python для sinπ, имеет порядок 10−16 — это очень маленькое число, близкое к нулю. \n",
    "Почему не «настоящий» ноль? \n",
    "Все вычисления в вещественных числах делаются компьютером с некоторой ограниченной точностью, \n",
    "поэтому зачастую вместо «честных» ответов получаются такие приближенные. К этому надо быть готовым."
   ]
  },
  {
   "cell_type": "markdown",
   "metadata": {},
   "source": [
    "# Переменные"
   ]
  },
  {
   "cell_type": "markdown",
   "metadata": {},
   "source": [
    "Понятие «переменной» в программировании похоже на аналогичное понятие в математике. \n",
    "Переменная — это ячейка памяти, обозначаемая каким-то именем. \n",
    "В этой ячейке могут храниться числа, строки и более сложные объекты. \n",
    "Мы пока поработаем немножко с числовыми переменными."
   ]
  },
  {
   "cell_type": "code",
   "execution_count": 12,
   "metadata": {},
   "outputs": [
    {
     "data": {
      "text/plain": [
       "4"
      ]
     },
     "execution_count": 12,
     "metadata": {},
     "output_type": "execute_result"
    }
   ],
   "source": [
    "x = 4\n",
    "x"
   ]
  },
  {
   "cell_type": "markdown",
   "metadata": {},
   "source": [
    "В отличие, например, от языков C или Паскаль, \n",
    "в Питоне не нужно как-то специально объявлять переменную — достаточно просто присвоить ей значение, и можно пользоваться!"
   ]
  },
  {
   "cell_type": "code",
   "execution_count": 13,
   "metadata": {},
   "outputs": [
    {
     "data": {
      "text/plain": [
       "6"
      ]
     },
     "execution_count": 13,
     "metadata": {},
     "output_type": "execute_result"
    }
   ],
   "source": [
    "x + 2"
   ]
  },
  {
   "cell_type": "code",
   "execution_count": 14,
   "metadata": {},
   "outputs": [],
   "source": [
    "x = x + 2"
   ]
  },
  {
   "cell_type": "markdown",
   "metadata": {},
   "source": [
    "С математической точки зрения, приведенная выше строчка кажется бессмыслицей — равенством, которое никогда не является верным. \n",
    "С точки зрения программирования, это команда, которая говорит «вычисли значение того, \n",
    "что стоит в правой части равенства, и присвой то, что получилось, переменной, стоящей в левой части равенства». \n",
    "Если вы знакомы с языком Pascal, вы бы написали «:=» вместо «=», \n",
    "но в Питоне используется синтаксис, более похожий на C — одиночное равенство означает операцию присвоения значения."
   ]
  },
  {
   "cell_type": "code",
   "execution_count": 15,
   "metadata": {},
   "outputs": [
    {
     "data": {
      "text/plain": [
       "6"
      ]
     },
     "execution_count": 15,
     "metadata": {},
     "output_type": "execute_result"
    }
   ],
   "source": [
    "x"
   ]
  },
  {
   "cell_type": "markdown",
   "metadata": {},
   "source": [
    "Переменные могут хранить не только числа, но и другие данные."
   ]
  },
  {
   "cell_type": "markdown",
   "metadata": {},
   "source": [
    "# Ввод данных"
   ]
  },
  {
   "cell_type": "markdown",
   "metadata": {},
   "source": [
    "Работа в Jupyter / IPython Notebook редко требует писать код, который сам по себе запрашивает данные с клавиатуры, \n",
    "но для других приложений (и в частности для домашних работ) это может потребоваться. \n",
    "К тому же, написание интерактивных приложений само по себе забавное занятие. \n",
    "Напишем, например, программу, которая здоровается с нами по имени."
   ]
  },
  {
   "cell_type": "code",
   "execution_count": 16,
   "metadata": {},
   "outputs": [
    {
     "name": "stdout",
     "output_type": "stream",
     "text": [
      "Введите ваше имя: Бакир \n",
      "Привет, Бакир \n"
     ]
    }
   ],
   "source": [
    "name = input(\"Введите ваше имя: \")\n",
    "print(\"Привет,\",name)"
   ]
  },
  {
   "cell_type": "markdown",
   "metadata": {},
   "source": [
    "Что здесь произшло? В первой строчке мы использовали функцию input. \n",
    "Она вывела на экран строчку, которую ей передали (обязательно в кавычках) и запросила ответ с клавиатуры. \n",
    "Указали своё имя. После чего **input** вернула строчку \"_________\" и эта строчка была присвоена переменной name. \n",
    "После этого во второй строке была вызвана функция **print** и ей были переданы две строчки — \"Привет,\" и то, \n",
    "что хранилось в переменной **name**. \n",
    "Функция **print** вывела эти две строчки последовательно, разделив пробелом. \n",
    "Заметим, что в переменной name по-прежнему лежит та строчка, которую мы ввели с клавиатуры."
   ]
  },
  {
   "cell_type": "code",
   "execution_count": 17,
   "metadata": {},
   "outputs": [
    {
     "data": {
      "text/plain": [
       "'Бакир '"
      ]
     },
     "execution_count": 17,
     "metadata": {},
     "output_type": "execute_result"
    }
   ],
   "source": [
    "name"
   ]
  },
  {
   "cell_type": "markdown",
   "metadata": {},
   "source": [
    "Попробуем теперь написать программу «удвоитель». \n",
    "Она должна будет принимать на вход число, удваивать его и возвращать результат. (x=12)"
   ]
  },
  {
   "cell_type": "code",
   "execution_count": 18,
   "metadata": {},
   "outputs": [
    {
     "name": "stdout",
     "output_type": "stream",
     "text": [
      "Введите какое-нибудь число: 4\n",
      "44\n"
     ]
    }
   ],
   "source": [
    "x = input(\"Введите какое-нибудь число: \")\n",
    "print(x*2)"
   ]
  },
  {
   "cell_type": "markdown",
   "metadata": {},
   "source": [
    "Что-то здесь не то. Конечно, в некотором смысле компьютер сделал то, что мы его просили — было одно число 12, \n",
    "а стало два, но мы-то хотели чего-то другого. Почему так получилось? Дело в том, \n",
    "что input всегда возращает строку (он же не знает, что мы введём — цифлы или какие-то другие символы; \n",
    "он не понимает, что в запросе сказан «Введите какое-нибудь число» — для него это просто какая-то строка). \n",
    "И в переменной x сейчас не число 12, а строка '12' (обратите внимание на апострофы)."
   ]
  },
  {
   "cell_type": "code",
   "execution_count": 19,
   "metadata": {},
   "outputs": [
    {
     "data": {
      "text/plain": [
       "'4'"
      ]
     },
     "execution_count": 19,
     "metadata": {},
     "output_type": "execute_result"
    }
   ],
   "source": [
    "x"
   ]
  },
  {
   "cell_type": "markdown",
   "metadata": {},
   "source": [
    "Чтобы работать с ним как с числом, надо его превратить из строкового типа в числовой. \n",
    "Например, если мы хотим работать только с целыми числами, то подходящим будет тип **int** (от слова integer, целое число)."
   ]
  },
  {
   "cell_type": "code",
   "execution_count": 20,
   "metadata": {},
   "outputs": [
    {
     "data": {
      "text/plain": [
       "4"
      ]
     },
     "execution_count": 20,
     "metadata": {},
     "output_type": "execute_result"
    }
   ],
   "source": [
    "int(x)"
   ]
  },
  {
   "cell_type": "markdown",
   "metadata": {},
   "source": [
    "Видите, апострофов нет — это уже число. Слово int это одновременно и обозначение типа данных (целые числа) и функция, \n",
    "которая превращает то, что ей передали в качестве аргумента, в указанный тип данных.\n",
    "\n",
    "Перепишем программу-удвоитель следующим образом:"
   ]
  },
  {
   "cell_type": "code",
   "execution_count": 21,
   "metadata": {},
   "outputs": [
    {
     "name": "stdout",
     "output_type": "stream",
     "text": [
      "Введите какое-нибудь число: 4\n",
      "8\n"
     ]
    }
   ],
   "source": [
    "x_str = input(\"Введите какое-нибудь число: \")\n",
    "x = int(x_str)\n",
    "print(x*2)"
   ]
  },
  {
   "cell_type": "markdown",
   "metadata": {},
   "source": [
    "Совсем другое дело! Теперь в x_str лежит строчка, которую мы ввели, в x помещается результат её преобразования в целое число, \n",
    "и дальше это число удваивается и выводится на экран. Можно было бы не вводить дополнительную переменную (и сэкономить строчку):"
   ]
  },
  {
   "cell_type": "markdown",
   "metadata": {},
   "source": [
    "Попробуем ещё раз. Введите х = 12.34"
   ]
  },
  {
   "cell_type": "code",
   "execution_count": 22,
   "metadata": {},
   "outputs": [
    {
     "name": "stdout",
     "output_type": "stream",
     "text": [
      "Введите какое-нибудь число: 12.34\n"
     ]
    },
    {
     "ename": "ValueError",
     "evalue": "invalid literal for int() with base 10: '12.34'",
     "output_type": "error",
     "traceback": [
      "\u001b[1;31m---------------------------------------------------------------------------\u001b[0m",
      "\u001b[1;31mValueError\u001b[0m                                Traceback (most recent call last)",
      "\u001b[1;32m~\\AppData\\Local\\Temp/ipykernel_7352/176493207.py\u001b[0m in \u001b[0;36m<module>\u001b[1;34m\u001b[0m\n\u001b[1;32m----> 1\u001b[1;33m \u001b[0mx\u001b[0m \u001b[1;33m=\u001b[0m \u001b[0mint\u001b[0m\u001b[1;33m(\u001b[0m\u001b[0minput\u001b[0m\u001b[1;33m(\u001b[0m\u001b[1;34m\"Введите какое-нибудь число: \"\u001b[0m\u001b[1;33m)\u001b[0m\u001b[1;33m)\u001b[0m\u001b[1;33m\u001b[0m\u001b[1;33m\u001b[0m\u001b[0m\n\u001b[0m\u001b[0;32m      2\u001b[0m \u001b[0mprint\u001b[0m\u001b[1;33m(\u001b[0m\u001b[0mx\u001b[0m\u001b[1;33m*\u001b[0m\u001b[1;36m2\u001b[0m\u001b[1;33m)\u001b[0m\u001b[1;33m\u001b[0m\u001b[1;33m\u001b[0m\u001b[0m\n",
      "\u001b[1;31mValueError\u001b[0m: invalid literal for int() with base 10: '12.34'"
     ]
    }
   ],
   "source": [
    "x = int(input(\"Введите какое-нибудь число: \"))\n",
    "print(x*2)"
   ]
  },
  {
   "cell_type": "markdown",
   "metadata": {},
   "source": [
    "Вы попробовали ввести число 12.34 (нецелое) и Python не смог привести его в типу **int** \n",
    "(то есть сделать из строчки \"12.34\" целое число и выдал ошибку. \n",
    "Если бы мы хотели работать с нецелыми числами, \n",
    "нам нужно было использовать тип **float** (от слова float, плавать — обозначает плавающую точку)."
   ]
  },
  {
   "cell_type": "markdown",
   "metadata": {},
   "source": [
    "Попробуем ещё раз. "
   ]
  },
  {
   "cell_type": "code",
   "execution_count": 23,
   "metadata": {},
   "outputs": [
    {
     "name": "stdout",
     "output_type": "stream",
     "text": [
      "Введите какое-нибудь число (не обязательно целое): 12.34\n",
      "24.68\n"
     ]
    }
   ],
   "source": [
    "x = float(input(\"Введите какое-нибудь число (не обязательно целое): \"))\n",
    "print(x*2)"
   ]
  },
  {
   "cell_type": "code",
   "execution_count": 24,
   "metadata": {},
   "outputs": [],
   "source": [
    "a = 1 # первое число\n",
    "b = 1 # второе число\n",
    "i = 2 # номер того числа, которое находится в переменной b (сейчас это a_2)"
   ]
  },
  {
   "cell_type": "markdown",
   "metadata": {},
   "source": [
    "Мы будем хранить два последних числа, поскольку именно они определяют следующее, \n",
    "а также номер последнего найденного числа (переменная i)."
   ]
  },
  {
   "cell_type": "code",
   "execution_count": 25,
   "metadata": {},
   "outputs": [
    {
     "name": "stdout",
     "output_type": "stream",
     "text": [
      "3 2\n"
     ]
    }
   ],
   "source": [
    "c = a + b # нашли следующее число\n",
    "i = i + 1 # увеличили i на 1\n",
    "a = b   # значение a нам уже не нужно, а вот значение b ещё пригодится\n",
    "b = c   # запомнили вычисленное значение\n",
    "print(i, b)"
   ]
  },
  {
   "cell_type": "markdown",
   "metadata": {},
   "source": [
    "Питон выполняет команды последовательно, строчку за строчкой, поэтому порядок следоавния команд очень важен. \n",
    "Выполняя эту ячейку несколько раз, вы будете получать каждый раз очередное число Фибоначчи.\n",
    "\n",
    "**Контрольный вопрос**. Что произойдёт, если мы поменяем местами две строчки до print?"
   ]
  },
  {
   "cell_type": "code",
   "execution_count": 26,
   "metadata": {},
   "outputs": [
    {
     "name": "stdout",
     "output_type": "stream",
     "text": [
      "4 3\n"
     ]
    }
   ],
   "source": [
    "# Повторим этот код ещё раз\n",
    "\n",
    "c = a + b # нашли следующее число\n",
    "i = i + 1 # увеличили i на 1\n",
    "a = b   # значение a нам уже не нужно, а вот значение b ещё пригодится\n",
    "b = c   # запомнили вычисленное значение\n",
    "print(i, b)"
   ]
  },
  {
   "cell_type": "code",
   "execution_count": 27,
   "metadata": {},
   "outputs": [
    {
     "name": "stdout",
     "output_type": "stream",
     "text": [
      "5 5\n"
     ]
    }
   ],
   "source": [
    "# И ещё раз\n",
    "\n",
    "c = a + b # нашли следующее число\n",
    "i = i + 1 # увеличили i на 1\n",
    "a = b   # значение a нам уже не нужно, а вот значение b ещё пригодится\n",
    "b = c   # запомнили вычисленное значение\n",
    "print(i, b)"
   ]
  },
  {
   "cell_type": "code",
   "execution_count": 28,
   "metadata": {},
   "outputs": [
    {
     "name": "stdout",
     "output_type": "stream",
     "text": [
      "6 8\n"
     ]
    }
   ],
   "source": [
    "# И ещё раз\n",
    "\n",
    "c = a + b # нашли следующее число\n",
    "i = i + 1 # увеличили i на 1\n",
    "a = b   # значение a нам уже не нужно, а вот значение b ещё пригодится\n",
    "b = c   # запомнили вычисленное значение\n",
    "print(i, b)"
   ]
  },
  {
   "cell_type": "markdown",
   "metadata": {},
   "source": [
    "**Совет**: Можно было не копироать эту ячейку с кодом много раз, а просто запускать одну и ту же ячейку неколько раз. \n",
    "\n",
    "Проще всего это сделать с помощью комбинации Ctrl+Enter."
   ]
  },
  {
   "cell_type": "markdown",
   "metadata": {},
   "source": [
    "# Практическое задание № 1\n",
    "Вычислите 2 в 179 стпени. Выведите на экран вычисленное значение."
   ]
  },
  {
   "cell_type": "code",
   "execution_count": 29,
   "metadata": {},
   "outputs": [
    {
     "name": "stdout",
     "output_type": "stream",
     "text": [
      "766247770432944429179173513575154591809369561091801088\n"
     ]
    }
   ],
   "source": [
    "print(2**179)"
   ]
  },
  {
   "cell_type": "markdown",
   "metadata": {},
   "source": [
    "# Практическое задание № 2\n",
    "Запишите слово Python 100 раз подряд. Сдайте на проверку программу, которая выводит эту строчку (только буквы, без кавычек).\n",
    "\n",
    "**Подсказка:** Попробуйте умножить строку на число. Что получится?"
   ]
  },
  {
   "cell_type": "code",
   "execution_count": 31,
   "metadata": {},
   "outputs": [
    {
     "name": "stdout",
     "output_type": "stream",
     "text": [
      "Python Python Python Python Python Python Python Python Python Python Python Python Python Python Python Python Python Python Python Python Python Python Python Python Python Python Python Python Python Python Python Python Python Python Python Python Python Python Python Python Python Python Python Python Python Python Python Python Python Python Python Python Python Python Python Python Python Python Python Python Python Python Python Python Python Python Python Python Python Python Python Python Python Python Python Python Python Python Python Python Python Python Python Python Python Python Python Python Python Python Python Python Python Python Python Python Python Python Python Python \n"
     ]
    }
   ],
   "source": [
    "pt = 'Python '\n",
    "print(pt*100)"
   ]
  },
  {
   "cell_type": "markdown",
   "metadata": {},
   "source": [
    "# Практическое задание № 3\n",
    "Дано два числа: a и b. Найдите гипотенузу треугольника с заданными катетами.\n",
    "\n",
    "**Входные данные**\n",
    "В двух строках вводятся два числа (числа целые, положительные, не превышают 1000).\n",
    "\n",
    "**Выходные данные**\n",
    "Выведите ответ на задачу.\n",
    "\n",
    "**Пример**\n",
    "\n",
    "Входные данные\n",
    "\n",
    "3\n",
    "\n",
    "4\n",
    "\n",
    "Выходные данные\n",
    "\n",
    "5.0"
   ]
  },
  {
   "cell_type": "code",
   "execution_count": 32,
   "metadata": {},
   "outputs": [
    {
     "name": "stdout",
     "output_type": "stream",
     "text": [
      "Введите а = 3\n",
      "Введите b = 4\n",
      "Гипотенуза =  5.0\n"
     ]
    }
   ],
   "source": [
    "a = float(input('Введите а = '))\n",
    "b = float(input('Введите b = '))\n",
    "print(f'Гипотенуза = ', (a**2+b**2)**0.5)"
   ]
  },
  {
   "cell_type": "markdown",
   "metadata": {},
   "source": [
    "# Практическое задание № 4\n",
    "N школьников делят K яблок поровну, неделящийся остаток остается в корзинке. Сколько яблок достанется каждому школьнику?\n",
    "\n",
    "**Входные данные**\n",
    "Программа получает на вход числа N и K.\n",
    "\n",
    "**Выходные данные**\n",
    "Программа должна вывести искомое количество яблок.\n",
    "\n",
    "**Примеры**\n",
    "\n",
    "Входные данные\n",
    "\n",
    "3\n",
    "\n",
    "14\n",
    "\n",
    "Выходные данные\n",
    "\n",
    "4"
   ]
  },
  {
   "cell_type": "code",
   "execution_count": 37,
   "metadata": {},
   "outputs": [
    {
     "name": "stdout",
     "output_type": "stream",
     "text": [
      "Введите N = 3\n",
      "Введите K = 14\n",
      "Количество яблок  4\n"
     ]
    }
   ],
   "source": [
    "n = float(input('Введите N = '))\n",
    "k = float(input('Введите K = '))\n",
    "print('Количество яблок ', int(k//n))"
   ]
  },
  {
   "cell_type": "markdown",
   "metadata": {},
   "source": [
    "# Практическое задание № 5\n",
    "Дано трехзначное число. Найдите сумму его цифр.\n",
    "\n",
    "**Входные данные**\n",
    "Вводится целое положительное число. Гарантируется, что оно соответствует условию задачи.\n",
    "\n",
    "**Выходные данные**\n",
    "Выведите ответ на задачу.\n",
    "\n",
    "**Пример**\n",
    "\n",
    "Входные данные\n",
    "\n",
    "179\n",
    "\n",
    "Выходные данные\n",
    "\n",
    "17"
   ]
  },
  {
   "cell_type": "code",
   "execution_count": 39,
   "metadata": {},
   "outputs": [
    {
     "name": "stdout",
     "output_type": "stream",
     "text": [
      "179\n",
      "17\n"
     ]
    }
   ],
   "source": [
    "st = input()\n",
    "\n",
    "print(int(st[0])+int(st[1])+int(st[2]))"
   ]
  },
  {
   "cell_type": "code",
   "execution_count": null,
   "metadata": {},
   "outputs": [],
   "source": []
  }
 ],
 "metadata": {
  "kernelspec": {
   "display_name": "Python 3 (ipykernel)",
   "language": "python",
   "name": "python3"
  },
  "language_info": {
   "codemirror_mode": {
    "name": "ipython",
    "version": 3
   },
   "file_extension": ".py",
   "mimetype": "text/x-python",
   "name": "python",
   "nbconvert_exporter": "python",
   "pygments_lexer": "ipython3",
   "version": "3.9.2"
  }
 },
 "nbformat": 4,
 "nbformat_minor": 2
}
