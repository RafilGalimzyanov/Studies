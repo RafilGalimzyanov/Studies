{
 "cells": [
  {
   "cell_type": "markdown",
   "id": "8f177616",
   "metadata": {},
   "source": [
    "Заголовок таблицы | Другой заголовок\n",
    "-------- | --------\n",
    "Ячейка 1 | Ячейка 2\n",
    "Ячейка 3 | Ячейка 4"
   ]
  },
  {
   "cell_type": "markdown",
   "id": "8d360649",
   "metadata": {},
   "source": [
    "# Операторы Python\n",
    "Операция | Результат\n",
    "-------- | --------\n",
    "x+y      | Сложение (сумма x и y)\n",
    "x-y      | Вычитание (разница между x и y)\n",
    "-x       | Смена знака х\n",
    "+x       | Тождественность х\n",
    "x * y    | Умножение х на у\n",
    "x / y    | Деление х на у\n",
    "x // y   | Получение целой части от деления х на у\n",
    "x % y    | Остаток от деления х на у\n",
    "x ** y   | Возведение в степень\n",
    "\n",
    "## Составные операторы присваивания\n",
    "Операция | Результат\n",
    "-------- | --------\n",
    "y += 1   | # сложение и присваивание\n",
    "y -= 1   | # вычитание и присваивание\n",
    "y * = 2  | # умножение и присваивание\n",
    "y /= 3   | # деление и присваивание \n",
    "y //= 5  | # деление floor и присваивание \n",
    "y ** = 2 | # возведение в степень и присваивание \n",
    "y %= 3   | # вывод остатка и присваивание \n"
   ]
  },
  {
   "cell_type": "code",
   "execution_count": 3,
   "id": "1ba6869d",
   "metadata": {},
   "outputs": [
    {
     "data": {
      "text/plain": [
       "6"
      ]
     },
     "execution_count": 3,
     "metadata": {},
     "output_type": "execute_result"
    }
   ],
   "source": [
    "y = 5\n",
    "y += 1\n",
    "y"
   ]
  },
  {
   "cell_type": "code",
   "execution_count": null,
   "id": "1856b97b",
   "metadata": {},
   "outputs": [],
   "source": []
  }
 ],
 "metadata": {
  "kernelspec": {
   "display_name": "Python 3 (ipykernel)",
   "language": "python",
   "name": "python3"
  },
  "language_info": {
   "codemirror_mode": {
    "name": "ipython",
    "version": 3
   },
   "file_extension": ".py",
   "mimetype": "text/x-python",
   "name": "python",
   "nbconvert_exporter": "python",
   "pygments_lexer": "ipython3",
   "version": "3.9.2"
  }
 },
 "nbformat": 4,
 "nbformat_minor": 5
}
