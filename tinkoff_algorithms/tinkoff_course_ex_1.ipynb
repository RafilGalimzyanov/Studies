{
 "cells": [
  {
   "cell_type": "markdown",
   "id": "e56dd0cf",
   "metadata": {},
   "source": [
    "Формат входных данных\n",
    "\n",
    "Вводятся три строки.\n",
    "\n",
    "В первой записано, кто из ﻿aa﻿ и ﻿bb﻿ пришел раньше, в следующем формате: первый символ — всегда ﻿aa﻿, третий символ — ﻿bb﻿, а между ними записан один из символов ﻿>>﻿, ﻿<<﻿ или ﻿==﻿.\n",
    "\n",
    "Строка ﻿a < ba<b﻿ означает, что раньше пришел ﻿aa﻿, ﻿a > ba>b﻿ означает, что раньше пришел ﻿bb﻿,\n",
    "\n",
    " ﻿a = ba=b﻿ означает, что они пришли одновременно.\n",
    "\n",
    "Во второй строке в таком же формате записано, кто пришел раньше: ﻿aa﻿ или ﻿cc﻿.\n",
    "\n",
    "В третьей строке в таком же формате записано, кто пришел раньше: ﻿bb﻿ или ﻿cc﻿.\n",
    "\n",
    "Гарантируется, что входные данные не противоречивы.\n",
    "\n",
    "\n",
    "\n",
    "Формат выходных данных\n",
    "\n",
    "Выведите символы ﻿a, b, ca,b,c﻿ в порядке, в котором к финишу пришли волшебники — каждый сле- дующий волшебник должен прийти либо в то же время, либо позже, чем предыдущий. Если два волшебника пришли одновременно, то они могут быть выведены в любом порядке.\n",
    "\n",
    "Символы должны быть выведены в одной строке без пробелов."
   ]
  },
  {
   "cell_type": "code",
   "execution_count": 83,
   "id": "820f5bc7",
   "metadata": {},
   "outputs": [
    {
     "name": "stdout",
     "output_type": "stream",
     "text": [
      "a<b\n",
      "a<c\n",
      "b=c\n"
     ]
    }
   ],
   "source": [
    "str = [input(), input(), input()]\n",
    "\n",
    "sign = []\n",
    "\n",
    "def stage1(str):\n",
    "    n1 = str[0]\n",
    "    sig = str[1]\n",
    "    sign.append(sig)\n",
    "    n2 = str[2]\n",
    "    \n",
    "    if sig == '>':\n",
    "        return f'{n2}'\n",
    "    elif sig == '<':\n",
    "        return f'{n1}'\n",
    "    elif sig == '=':\n",
    "        return f'='\n",
    "    \n",
    "result = []\n",
    "\n",
    "for elem in str:\n",
    "    itog = stage1(elem)\n",
    "    result.append(itog)\n",
    "    \n",
    "if sign.count('=') < 2:\n",
    "    prt = []\n",
    "\n",
    "    if result.count('a') >1:\n",
    "        prt.append('a')\n",
    "    elif result.count('b') >1:\n",
    "        prt.append('b')\n",
    "    elif result.count('c') >1:\n",
    "        prt.append('c')\n",
    "    else:\n",
    "        prt = [0, 0, 0]\n",
    "\n",
    "    if (prt[0] == 'a') & (sign[2] == '>'):\n",
    "        prt.append('cb')\n",
    "    if (prt[0] == 'a') & (sign[2] == '<' or sign[2] == '='):\n",
    "        prt.append('bc')\n",
    "    if (prt[0] == 'b') & (sign[1] == '>'):\n",
    "        prt.append('ca')\n",
    "    if (prt[0] == 'b') & (sign[1] == '<' or sign[1] =='='):\n",
    "        prt.append('ac')\n",
    "    if (prt[0] == 'c') & (sign[0] == '>'):\n",
    "        prt.append('ba')\n",
    "    if (prt[0] == 'c') & (sign[0] == '<' or sign[0] == '='):\n",
    "        prt.append('ab')\n",
    "\n",
    "    print(prt[0]+prt[1])\n",
    "\n",
    "else:\n",
    "    print('abc')\n",
    "\n"
   ]
  },
  {
   "cell_type": "code",
   "execution_count": null,
   "id": "c49c3778",
   "metadata": {},
   "outputs": [],
   "source": []
  }
 ],
 "metadata": {
  "kernelspec": {
   "display_name": "Python 3 (ipykernel)",
   "language": "python",
   "name": "python3"
  },
  "language_info": {
   "codemirror_mode": {
    "name": "ipython",
    "version": 3
   },
   "file_extension": ".py",
   "mimetype": "text/x-python",
   "name": "python",
   "nbconvert_exporter": "python",
   "pygments_lexer": "ipython3",
   "version": "3.9.2"
  }
 },
 "nbformat": 4,
 "nbformat_minor": 5
}
