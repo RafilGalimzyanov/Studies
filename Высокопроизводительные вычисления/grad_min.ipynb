{
 "cells": [
  {
   "cell_type": "code",
   "execution_count": 121,
   "id": "32461667",
   "metadata": {},
   "outputs": [
    {
     "name": "stdout",
     "output_type": "stream",
     "text": [
      "x = 0.609350370312193 \n",
      "\n",
      "y = 0.44430158541729414 \n",
      "\n",
      "z = 0.6374614734067122 \n",
      "\n",
      "k = 0.8187307367034015 \n",
      "\n",
      "Затраченное время: 2.0280420780181885 \n",
      "\n"
     ]
    }
   ],
   "source": [
    "from threading import Thread\n",
    "import time\n",
    "import numpy as np\n",
    "import matplotlib.pyplot as plt\n",
    "\n",
    "N = 1000000    # число итераций \n",
    "lmd = 0.0000001  # шаг сходимости\n",
    "\n",
    "\n",
    "def f(x1, x2, x3, x4):\n",
    "    return x1**3 + 2*x1*x2 + x2**3 + 2*x2*x3 + x3**2 + x4**2\n",
    "\n",
    "def df1(x1, x2, x3, x4):\n",
    "    return 3*x1**2+2*x2\n",
    "\n",
    "def df2(x1, x2, x3, x4):\n",
    "    return 2*x1+3*x2**2+2*x3\n",
    "\n",
    "def df3(x1, x2, x3, x4):\n",
    "    return 2*x2 +2*x3\n",
    "\n",
    "def df4(x1, x2, x3, x4):\n",
    "    return 2*x4\n",
    "\n",
    "start = time.time() \n",
    "def grad_min_x1(N, lmd):\n",
    "    x0, y0, z0, k0 = 1, 1, 1, 1\n",
    "    \n",
    "    for i in range(N):\n",
    "        x0 = x0 - lmd*df1(x0, y0, z0, k0)    # изменение аргументов на текущей итерации\n",
    "    print(f'x = {x0} \\n')\n",
    "    return x0\n",
    "\n",
    "def grad_min_x2(N, lmd):\n",
    "    x0, y0, z0, k0 = 1, 1, 1, 1\n",
    "    for i in range(N):\n",
    "        y0 = y0 - lmd*df2(x0, y0, z0, k0)\n",
    "    print(f'y = {y0} \\n')\n",
    "    return y0\n",
    "\n",
    "def grad_min_x3(N, lmd):\n",
    "    x0, y0, z0, k0 = 1, 1, 1, 1\n",
    "    for i in range(N):\n",
    "        z0 = z0 - lmd*df3(x0, y0, z0, k0)\n",
    "    print(f'z = {z0} \\n')\n",
    "    return z0\n",
    "\n",
    "def grad_min_x4(N, lmd):\n",
    "    x0, y0, z0, k0 = 1, 1, 1, 1\n",
    "    for i in range(N):\n",
    "        k0 = k0 - lmd*df4(x0, y0, z0, k0)\n",
    "    print(f'k = {k0} \\n')\n",
    "    return k0\n",
    "\n",
    "x0 = grad_min_x1(N, lmd)\n",
    "y0 = grad_min_x2(N, lmd)\n",
    "z0 = grad_min_x3(N, lmd)\n",
    "k0 = grad_min_x4(N, lmd)\n",
    "\n",
    "\n",
    "print(f'Затраченное время: {time.time()-start} \\n')"
   ]
  },
  {
   "cell_type": "markdown",
   "id": "1683da57",
   "metadata": {},
   "source": [
    "# 4 потока"
   ]
  },
  {
   "cell_type": "code",
   "execution_count": 118,
   "id": "14cacca0",
   "metadata": {},
   "outputs": [
    {
     "name": "stdout",
     "output_type": "stream",
     "text": [
      "Затраченное время: 0.2913801670074463\n",
      "k = 0.8187307367034015 \n",
      "\n",
      "x = 0.609350370312193 \n",
      "z = 0.6374614734067122 \n",
      "\n",
      "\n",
      "y = 0.44430158541729414 \n",
      "\n"
     ]
    }
   ],
   "source": [
    "start = time.time() \n",
    "\n",
    "my_thread1 = Thread(target=grad_min_x1, args=(N, lmd))\n",
    "my_thread2 = Thread(target=grad_min_x2, args=(N, lmd))\n",
    "my_thread3 = Thread(target=grad_min_x3, args=(N, lmd))\n",
    "my_thread4 = Thread(target=grad_min_x4, args=(N, lmd))\n",
    "my_thread1.start()\n",
    "my_thread2.start()\n",
    "my_thread3.start()\n",
    "my_thread4.start()\n",
    "\n",
    "\n",
    "\n",
    "\n",
    "print(f'Затраченное время: {time.time()-start}')"
   ]
  },
  {
   "cell_type": "markdown",
   "id": "40c4d804",
   "metadata": {},
   "source": [
    "# 2 потока"
   ]
  },
  {
   "cell_type": "code",
   "execution_count": 129,
   "id": "219e968d",
   "metadata": {},
   "outputs": [
    {
     "name": "stdout",
     "output_type": "stream",
     "text": [
      "x = 0.609350370312193 \n",
      "\n",
      "z = 0.6374614734067122 \n",
      "\n",
      "k = 0.8187307367034015 \n",
      "y = 0.44430158541729414 \n",
      "\n",
      "\n",
      "Затраченное время: 1.9472935199737549\n"
     ]
    }
   ],
   "source": [
    "start = time.time() \n",
    "\n",
    "my_thread1 = Thread(target=grad_min_x1, args=(N, lmd))\n",
    "my_thread1.start()\n",
    "my_thread1.join()\n",
    "my_thread1 = Thread(target=grad_min_x2, args=(N, lmd))\n",
    "my_thread1.start()\n",
    "\n",
    "my_thread2 = Thread(target=grad_min_x3, args=(N, lmd))\n",
    "my_thread2.start()\n",
    "my_thread2.join()\n",
    "my_thread2 = Thread(target=grad_min_x4, args=(N, lmd))\n",
    "my_thread2.start()\n",
    "\n",
    "\n",
    "my_thread1.join()\n",
    "my_thread2.join()\n",
    "print(f'Затраченное время: {time.time()-start}')"
   ]
  }
 ],
 "metadata": {
  "kernelspec": {
   "display_name": "Python 3 (ipykernel)",
   "language": "python",
   "name": "python3"
  },
  "language_info": {
   "codemirror_mode": {
    "name": "ipython",
    "version": 3
   },
   "file_extension": ".py",
   "mimetype": "text/x-python",
   "name": "python",
   "nbconvert_exporter": "python",
   "pygments_lexer": "ipython3",
   "version": "3.9.2"
  }
 },
 "nbformat": 4,
 "nbformat_minor": 5
}
