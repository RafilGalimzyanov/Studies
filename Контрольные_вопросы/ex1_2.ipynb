{
 "cells": [
  {
   "cell_type": "markdown",
   "id": "e5509aa6",
   "metadata": {},
   "source": [
    "## Тестовое задание\n",
    "### OOO Lumiprobe\n",
    "\n",
    "#### Галимзянов Рафиль Рафикович\n",
    "#### Телефон: +79083395505\n",
    "#### Telegram: https://t.me/rafil_galimzyanov\n",
    "#### Почта: rafil.galimzyanov.00@bk.ru"
   ]
  },
  {
   "cell_type": "code",
   "execution_count": 16,
   "id": "ebdbfe7c",
   "metadata": {},
   "outputs": [
    {
     "name": "stdout",
     "output_type": "stream",
     "text": [
      "Введите целое число N: 6\n",
      "None\n"
     ]
    }
   ],
   "source": [
    "\"\"\"\n",
    "    2. Функция result принимает в аргументы число N.\n",
    "Возвращает N, если корень из N равен целому числу, None, если не равен целому числу.\n",
    "\"\"\"\n",
    "\n",
    "def check(N):\n",
    "    sqrt_N = N**0.5\n",
    "    \n",
    "    if sqrt_N == int(sqrt_N):\n",
    "        return N\n",
    "    else:\n",
    "        return \"None\"\n",
    "    \n",
    "N = int(input(\"Введите целое число N: \"))\n",
    "print(check(N))"
   ]
  },
  {
   "cell_type": "code",
   "execution_count": 53,
   "id": "c108ae9f",
   "metadata": {},
   "outputs": [
    {
     "name": "stdout",
     "output_type": "stream",
     "text": [
      "Введите строку: aaaBbbBBBdjgndfg\n"
     ]
    },
    {
     "data": {
      "text/plain": [
       "('b', 6)"
      ]
     },
     "execution_count": 53,
     "metadata": {},
     "output_type": "execute_result"
    }
   ],
   "source": [
    "'''\n",
    "    1. Функция mode принимает в аргументы строку s.\n",
    "Возвращает кортеж из значений наиболее часто встречающегося символа и его частоты\n",
    "\n",
    "'''\n",
    "\n",
    "\n",
    "def mode(s):\n",
    "    s = [elem for elem in s.lower()]\n",
    "\n",
    "    s_set = set(s)\n",
    "    max_elem = 0\n",
    "    result = tuple()\n",
    "    \n",
    "    for elem in s_set:\n",
    "        if s.count(elem) > max_elem:\n",
    "            max_elem = s.count(elem)\n",
    "            result = (elem, s.count(elem))\n",
    "            \n",
    "    return result\n",
    "\n",
    "s = input(\"Введите строку: \")\n",
    "print(mode(s))"
   ]
  }
 ],
 "metadata": {
  "kernelspec": {
   "display_name": "Python 3 (ipykernel)",
   "language": "python",
   "name": "python3"
  },
  "language_info": {
   "codemirror_mode": {
    "name": "ipython",
    "version": 3
   },
   "file_extension": ".py",
   "mimetype": "text/x-python",
   "name": "python",
   "nbconvert_exporter": "python",
   "pygments_lexer": "ipython3",
   "version": "3.9.2"
  }
 },
 "nbformat": 4,
 "nbformat_minor": 5
}
