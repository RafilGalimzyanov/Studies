{
 "cells": [
  {
   "cell_type": "code",
   "execution_count": 5,
   "id": "d1dc4bd2",
   "metadata": {},
   "outputs": [],
   "source": [
    "class Point:\n",
    "    ### атрибуты/свойства класса\n",
    "    color = 'red'\n",
    "    circle = 2"
   ]
  },
  {
   "cell_type": "code",
   "execution_count": 6,
   "id": "2b6e40c2",
   "metadata": {},
   "outputs": [],
   "source": [
    "Point.color = 'black'"
   ]
  },
  {
   "cell_type": "code",
   "execution_count": 20,
   "id": "a9440658",
   "metadata": {},
   "outputs": [],
   "source": [
    "# экземпляры класса Point, на разных адресах\n",
    "a = Point()\n",
    "b = Point()"
   ]
  },
  {
   "cell_type": "code",
   "execution_count": 14,
   "id": "bd82b8fd",
   "metadata": {},
   "outputs": [
    {
     "data": {
      "text/plain": [
       "'black'"
      ]
     },
     "execution_count": 14,
     "metadata": {},
     "output_type": "execute_result"
    }
   ],
   "source": [
    "a.color"
   ]
  },
  {
   "cell_type": "code",
   "execution_count": 15,
   "id": "c43a80f5",
   "metadata": {},
   "outputs": [
    {
     "name": "stdout",
     "output_type": "stream",
     "text": [
      "green black\n"
     ]
    }
   ],
   "source": [
    "# 'green' присвоили только в пространстве имён а\n",
    "a.color = 'green'\n",
    "print(a.color, b.color)"
   ]
  },
  {
   "cell_type": "code",
   "execution_count": 16,
   "id": "19f15116",
   "metadata": {},
   "outputs": [],
   "source": [
    "# Придумаем новый атрибут класса\n",
    "Point.type_pt = 'disc'\n",
    "# аналог setattr(Point, 'type_pt', 'disc')"
   ]
  },
  {
   "cell_type": "code",
   "execution_count": 18,
   "id": "6d0b86f5",
   "metadata": {},
   "outputs": [
    {
     "data": {
      "text/plain": [
       "False"
      ]
     },
     "execution_count": 18,
     "metadata": {},
     "output_type": "execute_result"
    }
   ],
   "source": [
    "getattr(Point, 'a', False)"
   ]
  },
  {
   "cell_type": "code",
   "execution_count": 19,
   "id": "186d7df8",
   "metadata": {},
   "outputs": [
    {
     "data": {
      "text/plain": [
       "True"
      ]
     },
     "execution_count": 19,
     "metadata": {},
     "output_type": "execute_result"
    }
   ],
   "source": [
    "# Удаление атрибутов\n",
    "del Point.type_pt\n",
    "# проверка на истиность, существует ли атрибут в пространстве имён (в том числе родителя)\n",
    "hasattr(Point, 'circle')"
   ]
  },
  {
   "cell_type": "code",
   "execution_count": 21,
   "id": "8304009e",
   "metadata": {},
   "outputs": [],
   "source": [
    "# Создаем координаты точек\n",
    "a.x = 1\n",
    "a.y = 2\n",
    "\n",
    "b.x = 10\n",
    "b.y = 20\n",
    "# Создали две независимые точки, а цвет и размер одинаковый благодаря общему предку"
   ]
  },
  {
   "cell_type": "code",
   "execution_count": null,
   "id": "f8ca2102",
   "metadata": {},
   "outputs": [],
   "source": []
  }
 ],
 "metadata": {
  "kernelspec": {
   "display_name": "Python 3 (ipykernel)",
   "language": "python",
   "name": "python3"
  },
  "language_info": {
   "codemirror_mode": {
    "name": "ipython",
    "version": 3
   },
   "file_extension": ".py",
   "mimetype": "text/x-python",
   "name": "python",
   "nbconvert_exporter": "python",
   "pygments_lexer": "ipython3",
   "version": "3.9.2"
  }
 },
 "nbformat": 4,
 "nbformat_minor": 5
}
