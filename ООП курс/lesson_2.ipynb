{
 "cells": [
  {
   "cell_type": "code",
   "execution_count": 9,
   "id": "40b66634",
   "metadata": {},
   "outputs": [],
   "source": [
    "# Методы классов\n",
    "\n",
    "class Point:\n",
    "    color = 'red'\n",
    "    circle = 2\n",
    "    \n",
    "    def set_coords(self):\n",
    "        print('Вызов метода set_coords ' + str(self))"
   ]
  },
  {
   "cell_type": "code",
   "execution_count": 16,
   "id": "84c3193b",
   "metadata": {},
   "outputs": [
    {
     "name": "stdout",
     "output_type": "stream",
     "text": [
      "Вызов метода set_coords <__main__.Point object at 0x0000019AEA02FA90>\n"
     ]
    }
   ],
   "source": [
    "Point.set_coords(pt)\n",
    "# Не работает на прямую из класса, ставим pt"
   ]
  },
  {
   "cell_type": "code",
   "execution_count": 11,
   "id": "b45a2ecc",
   "metadata": {},
   "outputs": [],
   "source": [
    "pt = Point()"
   ]
  },
  {
   "cell_type": "code",
   "execution_count": 12,
   "id": "127859fe",
   "metadata": {},
   "outputs": [
    {
     "name": "stdout",
     "output_type": "stream",
     "text": [
      "Вызов метода set_coords <__main__.Point object at 0x0000019AEA02FA90>\n"
     ]
    }
   ],
   "source": [
    "pt.set_coords()\n",
    "# Передается аргумент, ссылка на себя (экземпляр pt) self "
   ]
  },
  {
   "cell_type": "code",
   "execution_count": 19,
   "id": "80f2e086",
   "metadata": {},
   "outputs": [
    {
     "name": "stdout",
     "output_type": "stream",
     "text": [
      "{'x': 1, 'y': 2}\n"
     ]
    }
   ],
   "source": [
    "# self нужен для редактирования локальных атрибутов конкретных экземпляров\n",
    "\n",
    "class Point:\n",
    "    color = 'red'\n",
    "    circle = 2\n",
    "    \n",
    "    def set_coords(self, x, y):\n",
    "        self.x = x\n",
    "        self.y = y\n",
    "        \n",
    "    def get_coords(self):\n",
    "        return (self.x, self.y)\n",
    "\n",
    "pt = Point()\n",
    "pt.set_coords(1, 2)\n",
    "print(pt.__dict__)"
   ]
  },
  {
   "cell_type": "code",
   "execution_count": null,
   "id": "cdb0ed13",
   "metadata": {},
   "outputs": [],
   "source": []
  }
 ],
 "metadata": {
  "kernelspec": {
   "display_name": "Python 3 (ipykernel)",
   "language": "python",
   "name": "python3"
  },
  "language_info": {
   "codemirror_mode": {
    "name": "ipython",
    "version": 3
   },
   "file_extension": ".py",
   "mimetype": "text/x-python",
   "name": "python",
   "nbconvert_exporter": "python",
   "pygments_lexer": "ipython3",
   "version": "3.9.2"
  }
 },
 "nbformat": 4,
 "nbformat_minor": 5
}
