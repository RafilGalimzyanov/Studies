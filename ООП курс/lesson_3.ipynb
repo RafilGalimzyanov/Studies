{
 "cells": [
  {
   "cell_type": "code",
   "execution_count": 2,
   "id": "2b369d11",
   "metadata": {},
   "outputs": [
    {
     "name": "stdout",
     "output_type": "stream",
     "text": [
      "(1, 2)\n"
     ]
    }
   ],
   "source": [
    "class Point:\n",
    "    color = 'red'\n",
    "    circle = 2\n",
    "    \n",
    "    def set_coords(self, x, y):\n",
    "        self.x = x\n",
    "        self.y = y\n",
    "        \n",
    "    def get_coords(self):\n",
    "        return (self.x, self.y)\n",
    "    \n",
    "pt = Point()\n",
    "pt.set_coords(1,2)\n",
    "print(pt.get_coords())"
   ]
  },
  {
   "cell_type": "code",
   "execution_count": 3,
   "id": "6973146a",
   "metadata": {},
   "outputs": [
    {
     "data": {
      "text/plain": [
       "(1, 2)"
      ]
     },
     "execution_count": 3,
     "metadata": {},
     "output_type": "execute_result"
    }
   ],
   "source": [
    "# Магический метод __init__ позволяет вводить координаты ещё при создании\n",
    "\n",
    "class Point:\n",
    "    color = 'red'\n",
    "    circle = 2\n",
    "    \n",
    "    def __init__(self, a=0, b=0):\n",
    "        self.x = a\n",
    "        self.y = b\n",
    "    \n",
    "    def set_coords(self, x, y):\n",
    "        self.x = x\n",
    "        self.y = y\n",
    "        \n",
    "    def get_coords(self):\n",
    "        return (self.x, self.y)\n",
    "    \n",
    "pt = Point(1, 2)\n",
    "pt.get_coords()"
   ]
  },
  {
   "cell_type": "code",
   "execution_count": null,
   "id": "bf23bd9c",
   "metadata": {},
   "outputs": [],
   "source": [
    "# __del__ вызывается при удалении объекта класса\n",
    "# КАк только пропадают ссылки на объект, сборщик мусора удаляет объекты. \n",
    "# Перед удалением сработает магический метод __del__\n",
    "\n",
    "class Point:\n",
    "    color = 'red'\n",
    "    circle = 2\n",
    "    \n",
    "    def __init__(self, a=0, b=0):\n",
    "        self.x = a\n",
    "        self.y = b\n",
    "    \n",
    "    def __del__(self):\n",
    "        return ('Удаление' + self)\n",
    "    \n",
    "    def set_coords(self, x, y):\n",
    "        self.x = x\n",
    "        self.y = y\n",
    "        \n",
    "    def get_coords(self):\n",
    "        return (self.x, self.y)\n",
    "    \n",
    "pt = Point(1, 2)\n",
    "pt.get_coords()"
   ]
  }
 ],
 "metadata": {
  "kernelspec": {
   "display_name": "Python 3 (ipykernel)",
   "language": "python",
   "name": "python3"
  },
  "language_info": {
   "codemirror_mode": {
    "name": "ipython",
    "version": 3
   },
   "file_extension": ".py",
   "mimetype": "text/x-python",
   "name": "python",
   "nbconvert_exporter": "python",
   "pygments_lexer": "ipython3",
   "version": "3.9.2"
  }
 },
 "nbformat": 4,
 "nbformat_minor": 5
}
