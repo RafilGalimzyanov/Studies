{
 "cells": [
  {
   "cell_type": "code",
   "execution_count": 2,
   "id": "cbda3433",
   "metadata": {},
   "outputs": [
    {
     "name": "stdout",
     "output_type": "stream",
     "text": [
      "Вызов __new__ для <class '__main__.Point'>\n",
      "None\n"
     ]
    }
   ],
   "source": [
    "class Point:\n",
    "    def __new__(cls, *args, **kwargs):\n",
    "        print('Вызов __new__ для ' + str(cls))\n",
    "        \n",
    "    def __init__(self, x=0, y=0):\n",
    "        print('Вызов __init__ для ' + str(self))\n",
    "        self.x = x\n",
    "        self.y = y\n",
    "        \n",
    "# cls ссылается на текущий экземпляр класса (Point), self на экземпляр класса\n",
    "\n",
    "pt = Point(1,2)\n",
    "print(pt)\n",
    "# Экземпляр класса не был создан\n",
    "# Потому что в python __new__ должен возвращать адрес созданного объекта"
   ]
  },
  {
   "cell_type": "code",
   "execution_count": 3,
   "id": "c2423844",
   "metadata": {},
   "outputs": [
    {
     "name": "stdout",
     "output_type": "stream",
     "text": [
      "Вызов __new__ для <class '__main__.Point'>\n",
      "Вызов __init__ для <__main__.Point object at 0x000001B7B595CC70>\n"
     ]
    }
   ],
   "source": [
    "class Point:\n",
    "    def __new__(cls, *args, **kwargs):\n",
    "        print('Вызов __new__ для ' + str(cls))\n",
    "        return super().__new__(cls)\n",
    "        \n",
    "    def __init__(self, x=0, y=0):\n",
    "        print('Вызов __init__ для ' + str(self))\n",
    "        self.x = x\n",
    "        self.y = y\n",
    "        \n",
    "# super() - базовый класс, все классы наследуются от object\n",
    "\n",
    "pt = Point(1,2)"
   ]
  },
  {
   "cell_type": "code",
   "execution_count": 5,
   "id": "903384b2",
   "metadata": {},
   "outputs": [
    {
     "name": "stdout",
     "output_type": "stream",
     "text": [
      "True\n"
     ]
    }
   ],
   "source": [
    "# Пример использования __new__ в паттерне Singleton\n",
    "\n",
    "class DataBase:\n",
    "    __instance = None\n",
    "    \n",
    "    def __new__(cls, *args, **kwargs):\n",
    "        if cls.__instance is None:\n",
    "            cls.__instance = super().__new__(cls)\n",
    "        \n",
    "        return cls.__instance\n",
    "    \n",
    "    def __del__(self):\n",
    "        DataBase.__instance = None\n",
    "    \n",
    "    def __init__(self, user, psw, port):\n",
    "        self.user = user\n",
    "        self.psw = psw\n",
    "        self.port = port\n",
    "        \n",
    "    def connect(self):\n",
    "        print(f'Соединение с БД: {self.user}, {self.psw}, {self.port}')\n",
    "    \n",
    "    def close(self):\n",
    "        print('Закрытие соединения с БД')\n",
    "        \n",
    "    def read(self):\n",
    "        return 'Данные из БД'\n",
    "    \n",
    "    def write(self, data):\n",
    "        print(f'Запись в БД {data}')\n",
    "        \n",
    "db = DataBase('root', '1234', 80)\n",
    "db2 = DataBase('root', '1234', 80)\n",
    "\n",
    "print(id(db) == id(db2))\n",
    "\n",
    "# Второй экземпляр не был создан, ссылается на первый экземпляр"
   ]
  },
  {
   "cell_type": "code",
   "execution_count": null,
   "id": "e3ed5efa",
   "metadata": {},
   "outputs": [],
   "source": []
  }
 ],
 "metadata": {
  "kernelspec": {
   "display_name": "Python 3 (ipykernel)",
   "language": "python",
   "name": "python3"
  },
  "language_info": {
   "codemirror_mode": {
    "name": "ipython",
    "version": 3
   },
   "file_extension": ".py",
   "mimetype": "text/x-python",
   "name": "python",
   "nbconvert_exporter": "python",
   "pygments_lexer": "ipython3",
   "version": "3.9.2"
  }
 },
 "nbformat": 4,
 "nbformat_minor": 5
}
