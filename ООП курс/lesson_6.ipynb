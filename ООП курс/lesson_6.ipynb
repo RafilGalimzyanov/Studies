{
 "cells": [
  {
   "cell_type": "code",
   "execution_count": 1,
   "id": "d94162b0",
   "metadata": {},
   "outputs": [],
   "source": [
    "# Механизм инкапсуляции - ограничение доступа к данным и методам класса извне"
   ]
  },
  {
   "cell_type": "code",
   "execution_count": 2,
   "id": "08205e2e",
   "metadata": {},
   "outputs": [
    {
     "name": "stdout",
     "output_type": "stream",
     "text": [
      "200 coord_y\n"
     ]
    }
   ],
   "source": [
    "class Point:\n",
    "    def __init__(self, x=0, y=0):\n",
    "        self.x = x\n",
    "        self.y = y\n",
    "\n",
    "pt = Point(1, 2)\n",
    "pt.x = 200\n",
    "pt.y = 'coord_y'\n",
    "print(pt.x, pt.y)\n",
    "\n",
    "# Изменили значения координат"
   ]
  },
  {
   "cell_type": "code",
   "execution_count": 4,
   "id": "151cd2fd",
   "metadata": {},
   "outputs": [
    {
     "name": "stdout",
     "output_type": "stream",
     "text": [
      "1 2\n"
     ]
    }
   ],
   "source": [
    "# _attribute - режим доступа protected. Обращение внутри класса и в дочерних\n",
    "# В python явного ограничения нет, но по договоренности обращаться нельзя\n",
    "\n",
    "\n",
    "class Point:\n",
    "    def __init__(self, x=0, y=0):\n",
    "        self._x = x\n",
    "        self._y = y\n",
    "\n",
    "pt = Point(1, 2)\n",
    "print(pt._x, pt._y)\n"
   ]
  },
  {
   "cell_type": "code",
   "execution_count": 11,
   "id": "f8b4ac70",
   "metadata": {},
   "outputs": [
    {
     "name": "stdout",
     "output_type": "stream",
     "text": [
      "(1, 2)\n",
      "(10, 20)\n"
     ]
    }
   ],
   "source": [
    "# __attribute - privat, обращение только внутри класса \n",
    "\n",
    "class Point:\n",
    "    def __init__(self, x=0, y=0):\n",
    "        self.__x = x\n",
    "        self.__y = y\n",
    "        \n",
    "    def set_coord(self, x, y):\n",
    "        self.__x = x\n",
    "        self.__y = y\n",
    "    \n",
    "    def get_coord(self):\n",
    "        return self.__x, self.__y\n",
    "    \n",
    "pt = Point(1, 2)\n",
    "print(pt.get_coord())\n",
    "pt.set_coord(10, 20)\n",
    "print(pt.get_coord())\n",
    "\n",
    "# При помощи сеттеров и геттеров (интерфейсных методов) можно работать с privat\n",
    "\n",
    "'''\n",
    "Внутри сеттеров можно проверять тип данных, соответствие некоторым ограничениям\n",
    "'''"
   ]
  },
  {
   "cell_type": "code",
   "execution_count": 13,
   "id": "c1df433f",
   "metadata": {},
   "outputs": [],
   "source": [
    "'''\n",
    "Приватными могут быть так же и методы класса\n",
    "'''\n",
    "class Point:\n",
    "    def __init__(self, x=0, y=0):\n",
    "        self.__x = self.__y = 0\n",
    "        if self.__check_values(x) and self.__check_values(y):\n",
    "            self.__x = x\n",
    "            self.__y = y\n",
    "        \n",
    "    @classmethod\n",
    "    def __check_values(cls, x):\n",
    "            return type(x) in (int, float)\n",
    "        \n",
    "    def set_coord(self, x, y):\n",
    "        if self.__check_values(x) and self.__check_values(y):\n",
    "            self.__x = x\n",
    "            self.__y = y\n",
    "    \n",
    "    def get_coord(self):\n",
    "        return self.__x, self.__y\n",
    "    \n",
    "pt = Point(1, 2)"
   ]
  },
  {
   "cell_type": "code",
   "execution_count": null,
   "id": "91e9dc1d",
   "metadata": {},
   "outputs": [],
   "source": []
  }
 ],
 "metadata": {
  "kernelspec": {
   "display_name": "Python 3 (ipykernel)",
   "language": "python",
   "name": "python3"
  },
  "language_info": {
   "codemirror_mode": {
    "name": "ipython",
    "version": 3
   },
   "file_extension": ".py",
   "mimetype": "text/x-python",
   "name": "python",
   "nbconvert_exporter": "python",
   "pygments_lexer": "ipython3",
   "version": "3.9.2"
  }
 },
 "nbformat": 4,
 "nbformat_minor": 5
}
