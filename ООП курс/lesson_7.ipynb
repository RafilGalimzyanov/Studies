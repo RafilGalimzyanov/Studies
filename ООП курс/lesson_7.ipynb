{
 "cells": [
  {
   "cell_type": "code",
   "execution_count": 1,
   "id": "aac509e0",
   "metadata": {},
   "outputs": [],
   "source": [
    "# Магические методы __setattr__, __getattribute__, __getattr__, __delattr__"
   ]
  },
  {
   "cell_type": "code",
   "execution_count": 2,
   "id": "d1b25d94",
   "metadata": {},
   "outputs": [],
   "source": [
    "class Point:\n",
    "    MAX_COORD = 100\n",
    "    MIN_COORD = 0\n",
    "    \n",
    "    def __init__(self, x, y):\n",
    "        self.x = x\n",
    "        self.y = y\n",
    "        \n",
    "    def set_coord(seld, x, y):\n",
    "        if self.MIN_COORD <= x <= self.MAX_COORD:\n",
    "            self.x = x\n",
    "            self.y = y\n",
    "            \n",
    "    def set_bound(self, left):\n",
    "        self.MIN_COORD = left\n",
    "        \n",
    "'''\n",
    "В методе set_bound оператор присваивания создает MIN_COORD в локальной области \n",
    "экземпляра класса, то есть MIN_COORD мы не поменяли\n",
    "'''"
   ]
  },
  {
   "cell_type": "code",
   "execution_count": 4,
   "id": "e8ddd68c",
   "metadata": {},
   "outputs": [
    {
     "data": {
      "text/plain": [
       "-100"
      ]
     },
     "execution_count": 4,
     "metadata": {},
     "output_type": "execute_result"
    }
   ],
   "source": [
    "class Point:\n",
    "    MAX_COORD = 100\n",
    "    MIN_COORD = 0\n",
    "    \n",
    "    def __init__(self, x, y):\n",
    "        self.x = x\n",
    "        self.y = y\n",
    "        \n",
    "    def set_coord(seld, x, y):\n",
    "        if self.MIN_COORD <= x <= self.MAX_COORD:\n",
    "            self.x = x\n",
    "            self.y = y\n",
    "    \n",
    "    @classmethod\n",
    "    def set_bound(cls, left):\n",
    "        cls.MIN_COORD = left\n",
    "        \n",
    "pt = Point(1, 2)\n",
    "pt.set_bound(-100)\n",
    "Point.MIN_COORD\n",
    "\n",
    "# Так всё работает"
   ]
  },
  {
   "cell_type": "code",
   "execution_count": 5,
   "id": "9fa44333",
   "metadata": {},
   "outputs": [
    {
     "name": "stdout",
     "output_type": "stream",
     "text": [
      "__getattribute__\n"
     ]
    }
   ],
   "source": [
    "# с применением магических методов\n",
    "\n",
    "class Point:\n",
    "    MAX_COORD = 100\n",
    "    MIN_COORD = 0\n",
    "    \n",
    "    def __init__(self, x, y):\n",
    "        self.x = x\n",
    "        self.y = y\n",
    "        \n",
    "    def set_coord(seld, x, y):\n",
    "        if self.MIN_COORD <= x <= self.MAX_COORD:\n",
    "            self.x = x\n",
    "            self.y = y\n",
    "    \n",
    "    def __getattribute__(self, item):\n",
    "        print('__getattribute__')\n",
    "        return object.__getattribute__(self, item)\n",
    "\n",
    "pt1 = Point(1, 2)\n",
    "a = pt1.x\n",
    "\n",
    "'''\n",
    "Можно применять для управления обращения с каким-либо методом \n",
    "'''"
   ]
  },
  {
   "cell_type": "code",
   "execution_count": null,
   "id": "1cb4f34e",
   "metadata": {},
   "outputs": [],
   "source": []
  }
 ],
 "metadata": {
  "kernelspec": {
   "display_name": "Python 3 (ipykernel)",
   "language": "python",
   "name": "python3"
  },
  "language_info": {
   "codemirror_mode": {
    "name": "ipython",
    "version": 3
   },
   "file_extension": ".py",
   "mimetype": "text/x-python",
   "name": "python",
   "nbconvert_exporter": "python",
   "pygments_lexer": "ipython3",
   "version": "3.9.2"
  }
 },
 "nbformat": 4,
 "nbformat_minor": 5
}
