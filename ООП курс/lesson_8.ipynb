{
 "cells": [
  {
   "cell_type": "code",
   "execution_count": 14,
   "id": "17b1edb6",
   "metadata": {},
   "outputs": [],
   "source": [
    "# Паттерн \"Моносостояния\"\n",
    "\n",
    "'''\n",
    "Хотим чтобы все экземпляры класса имели единые свойства\n",
    "То есть изменение любого из них в любом экземпляре отражалось во всех остальных\n",
    "экземплярах\n",
    "'''"
   ]
  },
  {
   "cell_type": "code",
   "execution_count": 17,
   "id": "1ff5b151",
   "metadata": {},
   "outputs": [],
   "source": [
    "class ThreadData:\n",
    "    #приватный словарь для записи атрибутов\n",
    "    __shared_attrs = {\n",
    "        'name': 'thread1',\n",
    "        'data': {},\n",
    "        'id': 1\n",
    "    }\n",
    "    \n",
    "    def __init__(self):\n",
    "        self.__dict__ = self.__shared_attrs\n",
    "        \n",
    "# То есть коллекция dict каждого экземпляра будет ссылаться на один словарь"
   ]
  },
  {
   "cell_type": "code",
   "execution_count": 18,
   "id": "8ff5c244",
   "metadata": {},
   "outputs": [
    {
     "data": {
      "text/plain": [
       "'\\nЛокальное пространство имён едино для всех экземпляров\\n'"
      ]
     },
     "execution_count": 18,
     "metadata": {},
     "output_type": "execute_result"
    }
   ],
   "source": [
    "'''\n",
    "Локальное пространство имён едино для всех экземпляров\n",
    "'''"
   ]
  },
  {
   "cell_type": "code",
   "execution_count": null,
   "id": "65f1e0ea",
   "metadata": {},
   "outputs": [],
   "source": []
  }
 ],
 "metadata": {
  "kernelspec": {
   "display_name": "Python 3 (ipykernel)",
   "language": "python",
   "name": "python3"
  },
  "language_info": {
   "codemirror_mode": {
    "name": "ipython",
    "version": 3
   },
   "file_extension": ".py",
   "mimetype": "text/x-python",
   "name": "python",
   "nbconvert_exporter": "python",
   "pygments_lexer": "ipython3",
   "version": "3.9.2"
  }
 },
 "nbformat": 4,
 "nbformat_minor": 5
}
