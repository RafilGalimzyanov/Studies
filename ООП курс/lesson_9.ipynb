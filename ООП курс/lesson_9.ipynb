{
 "cells": [
  {
   "cell_type": "code",
   "execution_count": 1,
   "id": "685177a4",
   "metadata": {},
   "outputs": [
    {
     "name": "stdout",
     "output_type": "stream",
     "text": [
      "23\n"
     ]
    }
   ],
   "source": [
    "# Свойства-property\n",
    "\n",
    "class Person:\n",
    "    def __init__(self, name, old):\n",
    "        self.__name = name\n",
    "        self.__old = old\n",
    "    \n",
    "    def get_old(self):\n",
    "        return self.__old\n",
    "    \n",
    "    def set_old(self, old):\n",
    "        self.__old = old\n",
    "        \n",
    "p = Person('Sergey', 22)\n",
    "p.set_old(23)\n",
    "print(p.get_old())\n",
    "\n",
    "'''\n",
    "Проблема: необхоимо записывать сеттеры и геттеры для каждого свойства\n",
    "Решение проблемы: property\n",
    "'''"
   ]
  },
  {
   "cell_type": "code",
   "execution_count": 6,
   "id": "cb9cc326",
   "metadata": {},
   "outputs": [
    {
     "name": "stdout",
     "output_type": "stream",
     "text": [
      "23\n"
     ]
    }
   ],
   "source": [
    "class Person:\n",
    "    def __init__(self, name, old):\n",
    "        self.__name = name\n",
    "        self.__old = old\n",
    "    \n",
    "    def get_old(self):\n",
    "        return self.__old\n",
    "    \n",
    "    def set_old(self, old):\n",
    "        self.__old = old\n",
    "    \n",
    "    old = property(get_old, set_old)\n",
    "    \n",
    "p = Person('Sergey', 22)\n",
    "\n",
    "a = p.old # Считываем данные геттером\n",
    "p.old = 23 # Записываем данные, сеттером \n",
    "\n",
    "'''\n",
    "То есть не нужно запоминать названия методов сеттеров и геттеров\n",
    "'''\n",
    "\n",
    "print(p.old)"
   ]
  },
  {
   "cell_type": "code",
   "execution_count": null,
   "id": "a3142019",
   "metadata": {},
   "outputs": [],
   "source": []
  }
 ],
 "metadata": {
  "kernelspec": {
   "display_name": "Python 3 (ipykernel)",
   "language": "python",
   "name": "python3"
  },
  "language_info": {
   "codemirror_mode": {
    "name": "ipython",
    "version": 3
   },
   "file_extension": ".py",
   "mimetype": "text/x-python",
   "name": "python",
   "nbconvert_exporter": "python",
   "pygments_lexer": "ipython3",
   "version": "3.9.2"
  }
 },
 "nbformat": 4,
 "nbformat_minor": 5
}
