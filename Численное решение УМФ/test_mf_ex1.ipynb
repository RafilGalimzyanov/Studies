{
 "cells": [
  {
   "cell_type": "markdown",
   "id": "c54cc6c2",
   "metadata": {},
   "source": [
    "# Реализация явной схемы для начально-краевой задачи для уравнения теплопроводности на отрезке."
   ]
  },
  {
   "cell_type": "code",
   "execution_count": 520,
   "id": "57859ed9",
   "metadata": {},
   "outputs": [],
   "source": [
    "import math\n",
    "import numpy as np\n",
    "import matplotlib.pyplot as plt"
   ]
  },
  {
   "cell_type": "code",
   "execution_count": 521,
   "id": "9d8a83e0",
   "metadata": {},
   "outputs": [
    {
     "name": "stdout",
     "output_type": "stream",
     "text": [
      "[[ 0.00e+00  0.00e+00  5.00e-02 ...  9.00e-01  9.50e-01  1.00e+00]\n",
      " [ 0.00e+00  1.00e+00  1.04e+00 ...  1.87e+00  1.93e+00  2.00e+00]\n",
      " [ 1.00e-03  1.00e+00  1.04e+00 ...  1.87e+00  0.00e+00  2.00e+00]\n",
      " ...\n",
      " [ 1.00e+01  1.00e+00  9.46e-01 ...  5.06e-02  0.00e+00 -1.68e+00]\n",
      " [ 1.00e+01  1.00e+00  9.46e-01 ...  5.06e-02  0.00e+00 -1.68e+00]\n",
      " [ 1.00e+01  1.00e+00  0.00e+00 ...  0.00e+00  0.00e+00 -1.68e+00]]\n"
     ]
    }
   ],
   "source": [
    "#CONSTANTS\n",
    "N = 1.0 # Предел по х\n",
    "M = 10.0 # Предел по t\n",
    "h = 0.05 # Шаг по х\n",
    "tau = 0.001 # Шаг по t\n",
    "\n",
    "\n",
    "def mass(N, M, h, tau):  \n",
    "    Y = np.zeros(((int(M/tau)+2), int(N/h)+2))\n",
    "    return Y\n",
    "\n",
    "\n",
    "def initial(N, M, h, tau):\n",
    "    Y = mass(N, M, h, tau)\n",
    "    \n",
    "    N = int((N+h)*100)\n",
    "    h = int(h*100)\n",
    "    M = int((M+tau)*1000)\n",
    "    tau = int(tau*1000)\n",
    "    \n",
    "    # Заполнение массива дискретным набором x и t\n",
    "    Y[0, 1:] = [i/100 for i in range(0, N, h)]\n",
    "    Y[1:, 0] = [i/1000 for i in range(0, M, tau)]\n",
    "\n",
    "    # Заполлнение массива НУ и ГУ по x и t\n",
    "    Y[1:, 1] = 1\n",
    "    Y[1:, -1] = [2*math.cos(i) for i in Y[1:,0]]\n",
    "    Y[1, 1:] = [math.pow(2, i) for i in Y[0, 1:]]\n",
    "    return Y\n",
    "#end_def\n",
    "#\n",
    "# *****************************************************************************\n",
    "\n",
    "\n",
    "def calc():    \n",
    "    Y = initial(N, M, h, tau)\n",
    "    \n",
    "    # Заполнение массива согласно алгоритму, по временным слоям\n",
    "    for j in range(1, int(M/tau)):\n",
    "        for i in range(2, int((N/h))):\n",
    "            Y[j+1][i] = Y[j][i]+tau/(h**2)*(Y[j][i+1]-2*Y[j][i]+Y[j][i-1])+tau*(-Y[0][i]**2+Y[0][i])*math.sin(Y[j][0])\n",
    "    return Y\n",
    "#end_def\n",
    "#\n",
    "# *****************************************************************************     \n",
    "\n",
    "Y = calc()\n",
    "print(Y)"
   ]
  },
  {
   "cell_type": "code",
   "execution_count": 522,
   "id": "74f62978",
   "metadata": {},
   "outputs": [
    {
     "data": {
      "text/plain": [
       "<function matplotlib.pyplot.show(close=None, block=None)>"
      ]
     },
     "execution_count": 522,
     "metadata": {},
     "output_type": "execute_result"
    },
    {
     "data": {
      "image/png": "[encoded data removed]",
      "text/plain": [
       "<Figure size 432x288 with 1 Axes>"
      ]
     },
     "metadata": {
      "needs_background": "light"
     },
     "output_type": "display_data"
    }
   ],
   "source": [
    "'''\n",
    "Визуализация решения в плоскости XOU в момент времени t = 0\n",
    "'''\n",
    "\n",
    "visual = []\n",
    "# Из матрицы Y вытаскиваем координаты (x, t, T) \n",
    "for j in range(1,len((Y[0]))):\n",
    "    for i in range(1,len((Y[:, 0]))):\n",
    "        visual.append([Y[0][j],Y[i][0],Y[i][j]])\n",
    "    #end_for_i\n",
    "#end_for_j\n",
    "\n",
    "x,y,z = [],[],[]\n",
    "\n",
    "# Заполняем листы с координатами x, y, z (x, t, T)\n",
    "for elem in visual:\n",
    "    if elem[1] == 0:\n",
    "        x.append(elem[0])\n",
    "        y.append(elem[1])\n",
    "        z.append(elem[2])\n",
    "    #end_if\n",
    "#end_for\n",
    "\n",
    "'''\n",
    "#create 3d axes\n",
    "fig = plt.figure()\n",
    "ax = fig.add_subplot(111, projection='3d')\n",
    "ax.scatter(x, y, z)\n",
    "'''\n",
    "\n",
    "plt.plot(x,z)\n",
    "plt.grid()\n",
    "plt.xlabel('L, м')\n",
    "plt.ylabel('T, C')\n",
    "plt.show"
   ]
  },
  {
   "cell_type": "markdown",
   "id": "e2127ef8",
   "metadata": {},
   "source": [
    "Условие устойчивости явной схемы: tau <= h*h/2"
   ]
  },
  {
   "cell_type": "code",
   "execution_count": 523,
   "id": "9740f435",
   "metadata": {},
   "outputs": [
    {
     "data": {
      "text/plain": [
       "True"
      ]
     },
     "execution_count": 523,
     "metadata": {},
     "output_type": "execute_result"
    }
   ],
   "source": [
    "tau <= h*h/2"
   ]
  }
 ],
 "metadata": {
  "kernelspec": {
   "display_name": "Python 3 (ipykernel)",
   "language": "python",
   "name": "python3"
  },
  "language_info": {
   "codemirror_mode": {
    "name": "ipython",
    "version": 3
   },
   "file_extension": ".py",
   "mimetype": "text/x-python",
   "name": "python",
   "nbconvert_exporter": "python",
   "pygments_lexer": "ipython3",
   "version": "3.9.2"
  }
 },
 "nbformat": 4,
 "nbformat_minor": 5
}
