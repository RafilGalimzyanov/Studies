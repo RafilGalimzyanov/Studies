{
 "cells": [
  {
   "cell_type": "markdown",
   "id": "44b519b5",
   "metadata": {},
   "source": [
    "# Метод двоичного кодирования, метод нумерации бернуллиевских последовательностей"
   ]
  },
  {
   "cell_type": "code",
   "execution_count": 1,
   "id": "12e39cca",
   "metadata": {},
   "outputs": [
    {
     "name": "stdout",
     "output_type": "stream",
     "text": [
      "Введите длину последовательности: 32\n",
      "Введите длину блоков: 4\n",
      "[0, 0, 0, 1, 1, 0, 1, 0, 1, 1, 1, 1, 0, 1, 1, 1, 1, 0, 0, 0, 0, 1, 1, 0, 0, 0, 1, 1, 1, 1, 0, 0]\n",
      "[0, 1, 1, 0, 1, 0, 1]\n",
      "Блоки: \n",
      "1)  [0, 0, 0, 1]\n",
      "2)  [1, 0, 1, 0]\n",
      "3)  [1, 1, 1, 1]\n",
      "4)  [0, 1, 1, 1]\n",
      "5)  [1, 0, 0, 0]\n",
      "6)  [0, 1, 1, 0]\n",
      "7)  [0, 0, 1, 1]\n",
      "8)  [1, 1, 0, 0]\n"
     ]
    }
   ],
   "source": [
    "import random\n",
    "import math\n",
    "\n",
    "array = []\n",
    "v_1 = 6\n",
    "\n",
    "len_array = int(input(\"Введите длину последовательности: \"))\n",
    "m = int(input(\"Введите длину блоков: \"))\n",
    "\n",
    "'''\n",
    "Генерация двоичной последовательности, при условии, что количество \"1\" больше количества \"0\"\n",
    "\n",
    "'''\n",
    "\n",
    "for i in range(len_array):\n",
    "    num = random.randint(0,10)\n",
    "    if num < v_1:\n",
    "        array.append(1)\n",
    "    else:\n",
    "        array.append(0)\n",
    "\n",
    "array_new =[]\n",
    "print(array)\n",
    "\n",
    "for i in range(len_array//2):\n",
    "    a = array[2*i]\n",
    "    b = array[2*i+1]\n",
    "    if a > b:\n",
    "        array_new.append(1)\n",
    "    elif a < b:\n",
    "        array_new.append(0)\n",
    "print(array_new)    \n",
    "\n",
    "blok_array = []\n",
    "\n",
    "print(\"Блоки: \")\n",
    "for i in range(len_array//m):\n",
    "    blok_array.append(array[m*i:m*i+m])\n",
    "    print(f\"{i+1}) \", array[m*i:m*i+m])"
   ]
  },
  {
   "cell_type": "code",
   "execution_count": 2,
   "id": "eb1e2b1b",
   "metadata": {},
   "outputs": [
    {
     "name": "stdout",
     "output_type": "stream",
     "text": [
      "bk_1 =  3\n",
      "bk_2 =  1\n",
      "bk_3 =  0\n",
      "bk_4 =  3\n",
      "bk_5 =  0\n",
      "bk_6 =  2\n",
      "bk_7 =  5\n",
      "bk_8 =  0\n"
     ]
    }
   ],
   "source": [
    "def Num(x):\n",
    "    bk = 0\n",
    "    index = []\n",
    "    for i in range(len(x)):\n",
    "        if x[i] == 1:\n",
    "            index.append(i)\n",
    "    for i in range(len(index)):\n",
    "        bk += math.comb(index[i], i+1)\n",
    "    return bk\n",
    "\n",
    "bk_array = []\n",
    "\n",
    "for i in range(len_array//m):\n",
    "    bk = Num(blok_array[i])\n",
    "    print(f\"bk_{i+1} = \", bk)\n",
    "    bk_array.append(bk)\n",
    "\n",
    "one_b = []\n",
    "\n",
    "for i in range(len(blok_array)):\n",
    "    one = 0\n",
    "    for k in range(len(blok_array[i])):\n",
    "        if blok_array[i][k] == 1:\n",
    "            one += 1\n",
    "        if k == len(blok_array[i])-1:\n",
    "            one_b.append(one)"
   ]
  },
  {
   "cell_type": "code",
   "execution_count": 3,
   "id": "f378012e",
   "metadata": {},
   "outputs": [
    {
     "name": "stdout",
     "output_type": "stream",
     "text": [
      "Результат декодирования: \n",
      "[4]\n",
      "[1, 3]\n",
      "[1, 2, 3, 4]\n",
      "[2, 3, 4]\n",
      "[1]\n",
      "[2, 3]\n",
      "[3, 4]\n",
      "[1, 2]\n"
     ]
    }
   ],
   "source": [
    "def zagir(k, bk):\n",
    "    for n in range(m, 0, -1):\n",
    "        #print(f\"k == {k}, bk == {bk}, цикл == {n}, число соч-й == {math.comb(n-1, k)}\")\n",
    "        if math.comb(n-1, k) <= bk:\n",
    "            x = [math.comb(n-1, k), n]\n",
    "            #print(x)\n",
    "            break\n",
    "    return x\n",
    "\n",
    "result = []\n",
    "\n",
    "for k, bk in zip(one_b, bk_array):\n",
    "    for i in range(k):\n",
    "        if i == 0:\n",
    "            result.append(' ')\n",
    "        x, n = zagir(k-i, bk)[0], zagir(k-i, bk)[1]\n",
    "        result.append(n)\n",
    "        zagir(k - i, bk - x)\n",
    "        #print(f'k = {k-i}, bk = {bk}, x = {x} , n = {n}')\n",
    "        bk -= x\n",
    "result. append(' ')\n",
    "\n",
    "prt = []\n",
    "\n",
    "print(\"Результат декодирования: \")\n",
    "\n",
    "for elem in result[1:]:\n",
    "    if elem != ' ':\n",
    "        prt.append(elem)\n",
    "    elif elem == ' ':\n",
    "        prt.reverse()\n",
    "        print(prt)\n",
    "        prt = []"
   ]
  },
  {
   "cell_type": "code",
   "execution_count": null,
   "id": "98b20341",
   "metadata": {},
   "outputs": [],
   "source": []
  }
 ],
 "metadata": {
  "kernelspec": {
   "display_name": "Python 3 (ipykernel)",
   "language": "python",
   "name": "python3"
  },
  "language_info": {
   "codemirror_mode": {
    "name": "ipython",
    "version": 3
   },
   "file_extension": ".py",
   "mimetype": "text/x-python",
   "name": "python",
   "nbconvert_exporter": "python",
   "pygments_lexer": "ipython3",
   "version": "3.9.2"
  }
 },
 "nbformat": 4,
 "nbformat_minor": 5
}
